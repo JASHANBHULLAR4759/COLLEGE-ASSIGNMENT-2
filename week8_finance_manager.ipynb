{
  "nbformat": 4,
  "nbformat_minor": 0,
  "metadata": {
    "colab": {
      "provenance": [],
      "authorship_tag": "ABX9TyNIx5MYy7R9jepXNlRmf1J2",
      "include_colab_link": true
    },
    "kernelspec": {
      "name": "python3",
      "display_name": "Python 3"
    },
    "language_info": {
      "name": "python"
    }
  },
  "cells": [
    {
      "cell_type": "markdown",
      "metadata": {
        "id": "view-in-github",
        "colab_type": "text"
      },
      "source": [
        "<a href=\"https://colab.research.google.com/github/JASHANBHULLAR4759/COLLEGE-ASSIGNMENT-2/blob/main/week8_finance_manager.ipynb\" target=\"_parent\"><img src=\"https://colab.research.google.com/assets/colab-badge.svg\" alt=\"Open In Colab\"/></a>"
      ]
    },
    {
      "cell_type": "code",
      "execution_count": 3,
      "metadata": {
        "colab": {
          "base_uri": "https://localhost:8080/"
        },
        "id": "pJUmzOJKi8Us",
        "outputId": "b5a6d7dc-773f-40b6-e568-3fc5de63a131"
      },
      "outputs": [
        {
          "output_type": "stream",
          "name": "stdout",
          "text": [
            "=== PERSONAL FINANCE SUMMARY ===\n",
            "Valid entries: 6   Skipped (bad lines): 1\n",
            "Total income:   $1535.50\n",
            "Total expenses: $-155.89\n",
            "Balance:        $1379.61\n",
            "\n",
            "First 10 entries:\n",
            " 1. Groceries                -55.40\n",
            " 2. Salary                  1500.00\n",
            " 3. Coffee                    -4.50\n",
            " 4. Netflix                  -15.99\n",
            " 5. Refund                    35.50\n",
            " 6. Internet                 -80.00\n"
          ]
        }
      ],
      "source": [
        "\"\"\"\n",
        "Week 8 — Personal Finance Manager (simple, robust version)\n",
        "Author: Jashanjot Singh\n",
        "\"\"\"\n",
        "\n",
        "from typing import List, Dict, Tuple\n",
        "\n",
        "def load_transactions(filename: str) -> List[str]:\n",
        "    \"\"\"\n",
        "    Safely read non-empty lines from a file.\n",
        "    Returns an empty list if the file doesn't exist.\n",
        "    \"\"\"\n",
        "    lines: List[str] = []\n",
        "    try:\n",
        "        with open(filename, \"r\", encoding=\"utf-8\") as f:\n",
        "            for line in f:\n",
        "                s = line.strip()\n",
        "                if s:\n",
        "                    lines.append(s)\n",
        "    except FileNotFoundError:\n",
        "        print(f\"[Info] File not found: {filename}\")\n",
        "    return lines\n",
        "\n",
        "def process_transactions(lines: List[str]) -> Tuple[List[Dict[str, float]], int]:\n",
        "    \"\"\"\n",
        "    Parse 'name,amount' per line.\n",
        "    Skip and count any bad/messy lines (no crash).\n",
        "    Returns (cleaned_transactions, error_count).\n",
        "    \"\"\"\n",
        "    cleaned: List[Dict[str, float]] = []\n",
        "    errors = 0\n",
        "    for idx, line in enumerate(lines, start=1):\n",
        "        parts = [p.strip() for p in line.split(\",\")]\n",
        "        if len(parts) != 2:\n",
        "            errors += 1\n",
        "            continue\n",
        "        name, amount_text = parts\n",
        "        try:\n",
        "            amount = float(amount_text)\n",
        "        except ValueError:\n",
        "            errors += 1\n",
        "            continue\n",
        "        cleaned.append({\"name\": name, \"amount\": amount})\n",
        "    return cleaned, errors\n",
        "\n",
        "def show_summary(transactions: List[Dict[str, float]], errors: int = 0) -> None:\n",
        "    \"\"\"\n",
        "    Print income, expenses, balance, and a quick preview.\n",
        "    \"\"\"\n",
        "    income = sum(t[\"amount\"] for t in transactions if t[\"amount\"] > 0)\n",
        "    expenses = sum(t[\"amount\"] for t in transactions if t[\"amount\"] < 0)\n",
        "    balance = income + expenses\n",
        "\n",
        "    print(\"=== PERSONAL FINANCE SUMMARY ===\")\n",
        "    print(f\"Valid entries: {len(transactions)}   Skipped (bad lines): {errors}\")\n",
        "    print(f\"Total income:   ${income:.2f}\")\n",
        "    print(f\"Total expenses: ${expenses:.2f}\")\n",
        "    print(f\"Balance:        ${balance:.2f}\")\n",
        "    print(\"\\nFirst 10 entries:\")\n",
        "    for i, t in enumerate(transactions[:10], 1):\n",
        "        print(f\"{i:>2}. {t['name']:<20} {t['amount']:>10.2f}\")\n",
        "\n",
        "def main(filename: str = \"transactions.txt\") -> None:\n",
        "    lines = load_transactions(filename)\n",
        "    txs, err = process_transactions(lines)\n",
        "    show_summary(txs, err)\n",
        "\n",
        "if __name__ == \"__main__\":\n",
        "    main()\n"
      ]
    }
  ]
}
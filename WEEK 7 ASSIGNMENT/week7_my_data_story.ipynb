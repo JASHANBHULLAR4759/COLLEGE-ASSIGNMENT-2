{
  "nbformat": 4,
  "nbformat_minor": 0,
  "metadata": {
    "colab": {
      "provenance": [],
      "authorship_tag": "ABX9TyMY2ar2YqxyAM6G7x9QDb5N",
      "include_colab_link": true
    },
    "kernelspec": {
      "name": "python3",
      "display_name": "Python 3"
    },
    "language_info": {
      "name": "python"
    }
  },
  "cells": [
    {
      "cell_type": "markdown",
      "metadata": {
        "id": "view-in-github",
        "colab_type": "text"
      },
      "source": [
        "<a href=\"https://colab.research.google.com/github/JASHANBHULLAR4759/COLLEGE-ASSIGNMENT-2/blob/main/week7_my_data_story.ipynb\" target=\"_parent\"><img src=\"https://colab.research.google.com/assets/colab-badge.svg\" alt=\"Open In Colab\"/></a>"
      ]
    },
    {
      "cell_type": "code",
      "execution_count": 1,
      "metadata": {
        "colab": {
          "base_uri": "https://localhost:8080/"
        },
        "id": "viYytINditdC",
        "outputId": "a6e2f524-5823-4586-b68c-2256bb8942d7"
      },
      "outputs": [
        {
          "output_type": "stream",
          "name": "stdout",
          "text": [
            "=== MY DATA STORY ===\n",
            " 1: Who is Virat Kohli?\n",
            " 2: Virat Kohli is a legendary Indian cricketer known for his aggressive batting style and leadership. He’s one of the most successful Test captains India has ever had.\n",
            " 3:   Test Career Summary (as of 2025):\n",
            " 4: - Matches Played: 123\n",
            " 5: - Innings Batted: 210\n",
            " 6: - Total Runs: 9,230\n",
            " 7: - Batting Average: 46.85\n",
            " 8: - Centuries (100s): 30\n",
            " 9: - Half-Centuries (50s): 31\n",
            "10: - Highest Score: 254*\n",
            "11: - Double Centuries: 7\n",
            "12: - Debut: June 2011 vs West Indies\n",
            "\n",
            "=== STATS ===\n",
            "Lines: 12\n",
            "Words: 76\n",
            "Total characters: 426\n",
            "Longest line (164 chars): Virat Kohli is a legendary Indian cricketer known for his aggressive batting style and leadership. He’s one of the most successful Test captains India has ever had.\n",
            "First line: Who is Virat Kohli?\n",
            "Last line:  - Debut: June 2011 vs West Indies\n"
          ]
        }
      ],
      "source": [
        "# Week 7 - My Data Story\n",
        "# This code reads a simple text file and prints basic stats.\n",
        "\n",
        "filename = \"my_data.txt\"\n",
        "\n",
        "# Read the file safely\n",
        "with open(filename, \"r\", encoding=\"utf-8\") as f:\n",
        "    lines = [line.rstrip(\"\\n\") for line in f]\n",
        "\n",
        "# Show contents\n",
        "print(\"=== MY DATA STORY ===\")\n",
        "for i, line in enumerate(lines, start=1):\n",
        "    print(f\"{i:>2}: {line}\")\n",
        "\n",
        "# Compute simple stats\n",
        "num_lines = len(lines)\n",
        "num_words = sum(len(l.split()) for l in lines)\n",
        "longest_line = max(lines, key=len) if lines else \"\"\n",
        "first_line = lines[0] if lines else \"\"\n",
        "last_line  = lines[-1] if lines else \"\"\n",
        "total_chars = sum(len(l) for l in lines)\n",
        "\n",
        "# Display stats\n",
        "print(\"\\n=== STATS ===\")\n",
        "print(f\"Lines: {num_lines}\")\n",
        "print(f\"Words: {num_words}\")\n",
        "print(f\"Total characters: {total_chars}\")\n",
        "print(f\"Longest line ({len(longest_line)} chars): {longest_line}\")\n",
        "print(f\"First line: {first_line}\")\n",
        "print(f\"Last line:  {last_line}\")\n"
      ]
    }
  ]
}
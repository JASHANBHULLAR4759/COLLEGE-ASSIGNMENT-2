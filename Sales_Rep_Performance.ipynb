{
  "nbformat": 4,
  "nbformat_minor": 0,
  "metadata": {
    "colab": {
      "provenance": [],
      "authorship_tag": "ABX9TyN0ZAnEK80MWv2+3fCdfWKe",
      "include_colab_link": true
    },
    "kernelspec": {
      "name": "python3",
      "display_name": "Python 3"
    },
    "language_info": {
      "name": "python"
    }
  },
  "cells": [
    {
      "cell_type": "markdown",
      "metadata": {
        "id": "view-in-github",
        "colab_type": "text"
      },
      "source": [
        "<a href=\"https://colab.research.google.com/github/JASHANBHULLAR4759/COLLEGE-ASSIGNMENT-2/blob/main/Sales_Rep_Performance.ipynb\" target=\"_parent\"><img src=\"https://colab.research.google.com/assets/colab-badge.svg\" alt=\"Open In Colab\"/></a>"
      ]
    },
    {
      "cell_type": "code",
      "execution_count": 4,
      "metadata": {
        "colab": {
          "base_uri": "https://localhost:8080/"
        },
        "id": "VKlE-QRVyPaw",
        "outputId": "683c430a-ac58-46c2-b5a6-f3542b8bb9ff"
      },
      "outputs": [
        {
          "output_type": "stream",
          "name": "stdout",
          "text": [
            "🏆 Total Revenue by Sales Rep:\n",
            "       Sales_Rep  Total_Sale\n",
            "0    David Kumar  $32,506.50\n",
            "1   Michael Wong  $21,085.50\n",
            "2     Sarah Chen  $18,396.25\n",
            "3  Emma Thompson  $11,904.30\n",
            "4      Lisa Park  $10,049.25\n",
            "\n",
            "📈 Average Sale Amount by Sales Rep:\n",
            "       Sales_Rep Total_Sale\n",
            "0    David Kumar  $8,126.62\n",
            "1   Michael Wong  $5,271.38\n",
            "2     Sarah Chen  $4,599.06\n",
            "3  Emma Thompson  $2,976.07\n",
            "4      Lisa Park  $2,512.31\n",
            "\n",
            "🌍 Regional Revenue by Sales Rep:\n",
            "  Region      Sales_Rep  Total_Sale\n",
            "0    NSW    David Kumar    32506.50\n",
            "1    NSW     Sarah Chen    18396.25\n",
            "2    QLD  Emma Thompson    11904.30\n",
            "3    VIC   Michael Wong    21085.50\n",
            "4     WA      Lisa Park    10049.25\n"
          ]
        },
        {
          "output_type": "stream",
          "name": "stderr",
          "text": [
            "<>:7: SyntaxWarning: invalid escape sequence '\\$'\n",
            "<>:8: SyntaxWarning: invalid escape sequence '\\$'\n",
            "<>:7: SyntaxWarning: invalid escape sequence '\\$'\n",
            "<>:8: SyntaxWarning: invalid escape sequence '\\$'\n",
            "/tmp/ipython-input-1023121546.py:7: SyntaxWarning: invalid escape sequence '\\$'\n",
            "  sales_df['Unit_Price'] = sales_df['Unit_Price'].replace('[\\$,]', '', regex=True).astype(float)\n",
            "/tmp/ipython-input-1023121546.py:8: SyntaxWarning: invalid escape sequence '\\$'\n",
            "  sales_df['Total_Sale'] = sales_df['Total_Sale'].replace('[\\$,]', '', regex=True).astype(float)\n"
          ]
        }
      ],
      "source": [
        "import pandas as pd\n",
        "import matplotlib.pyplot as plt\n",
        "import seaborn as sns\n",
        "\n",
        "# Load and clean data\n",
        "sales_df = pd.read_csv('sales_data.csv')\n",
        "sales_df['Unit_Price'] = sales_df['Unit_Price'].replace('[\\$,]', '', regex=True).astype(float)\n",
        "sales_df['Total_Sale'] = sales_df['Total_Sale'].replace('[\\$,]', '', regex=True).astype(float)\n",
        "\n",
        "# 1. Total Revenue by Sales Rep\n",
        "rep_revenue = sales_df.groupby('Sales_Rep')['Total_Sale'].sum().sort_values(ascending=False).reset_index()\n",
        "\n",
        "# 2. Average Sale by Sales Rep\n",
        "rep_avg_sale = sales_df.groupby('Sales_Rep')['Total_Sale'].mean().sort_values(ascending=False).reset_index()\n",
        "\n",
        "# 3. Regional patterns (Total revenue by Rep and Region)\n",
        "rep_region = sales_df.groupby(['Region', 'Sales_Rep'])['Total_Sale'].sum().reset_index()\n",
        "\n",
        "# Format revenue as currency\n",
        "rep_revenue['Total_Sale'] = rep_revenue['Total_Sale'].map('${:,.2f}'.format)\n",
        "rep_avg_sale['Total_Sale'] = rep_avg_sale['Total_Sale'].map('${:,.2f}'.format)\n",
        "\n",
        "# Display tables\n",
        "print(\"🏆 Total Revenue by Sales Rep:\")\n",
        "print(rep_revenue)\n",
        "\n",
        "print(\"\\n📈 Average Sale Amount by Sales Rep:\")\n",
        "print(rep_avg_sale)\n",
        "\n",
        "print(\"\\n🌍 Regional Revenue by Sales Rep:\")\n",
        "print(rep_region)\n"
      ]
    }
  ]
}
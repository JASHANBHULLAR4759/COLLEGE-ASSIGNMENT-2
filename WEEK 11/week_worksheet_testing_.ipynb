{
  "cells": [
    {
      "cell_type": "markdown",
      "metadata": {
        "id": "view-in-github",
        "colab_type": "text"
      },
      "source": [
        "<a href=\"https://colab.research.google.com/github/JASHANBHULLAR4759/COLLEGE-ASSIGNMENT-2/blob/main/week_worksheet_testing_.ipynb\" target=\"_parent\"><img src=\"https://colab.research.google.com/assets/colab-badge.svg\" alt=\"Open In Colab\"/></a>"
      ]
    },
    {
      "cell_type": "markdown",
      "metadata": {
        "id": "lHfKtSg-xglO"
      },
      "source": [
        "# Workshop Overview\n",
        "\n",
        "This worksheet guides you through practical exercises in test specification and verification. You'll practice the core skills from Modules 1-3: writing specifications, designing test strategies, and working with AI to verify code quality.\n",
        "\n",
        "**Learning Objectives:**\n",
        "- Write clear specifications using assertions\n",
        "- Apply systematic frameworks for test design (Given/When/Then, Equivalence Partitioning)\n",
        "- Make strategic decisions about test adequacy and risk\n",
        "- Evaluate AI-generated code and tests for simplicity and correctness\n",
        "- Practice the Specify → Generate → Verify → Refine cycle\n",
        "\n",
        "**Your Role:**\n",
        "You are the **strategic architect**. AI is your implementation assistant. You decide:\n",
        "- What needs testing (and what doesn't)\n",
        "- How comprehensive tests should be\n",
        "- Whether code is simple enough\n",
        "- When to ask AI for improvements\n",
        "\n",
        "**AI-First Approach:**\n",
        "We focus on \"specify and verify\" rather than manual coding. You'll learn to clearly communicate requirements to AI, then critically evaluate results."
      ]
    },
    {
      "cell_type": "markdown",
      "metadata": {
        "id": "WpWwrGNixglQ"
      },
      "source": [
        "---\n",
        "\n",
        "# Part 1: Understanding Assertions (20 minutes)\n",
        "\n",
        "## Exercise 1.1: Reading Assertions\n",
        "\n",
        "Examine these assertions and answer the questions:"
      ]
    },
    {
      "cell_type": "code",
      "execution_count": null,
      "metadata": {
        "id": "Ns1POk4vxglQ"
      },
      "outputs": [],
      "source": [
        "def calculate_tax(amount, rate):\n",
        "    \"\"\"Calculate tax on a purchase amount.\"\"\"\n",
        "    return amount * rate\n",
        "\n",
        "# Assertions\n",
        "assert calculate_tax(100, 0.10) == 10.0\n",
        "assert calculate_tax(50, 0.20) == 10.0\n",
        "assert calculate_tax(0, 0.10) == 0.0"
      ]
    },
    {
      "cell_type": "markdown",
      "metadata": {
        "id": "FdW7jT3VxglQ"
      },
      "source": [
        "**Questions:**\n",
        "1. What do these assertions tell you about what the function should do?\n",
        "2. What scenarios are being tested?\n",
        "3. What scenarios are NOT tested that probably should be?\n",
        "\n",
        "**Your answers:**"
      ]
    },
    {
      "cell_type": "code",
      "execution_count": null,
      "metadata": {
        "id": "caw4xuZCxglQ"
      },
      "outputs": [],
      "source": [
        "# Write your answers as comments:\n",
        "# Q1) Expected behavior:\n",
        "# - Tax = amount * rate (rate is a decimal, e.g., 0.10 = 10%)\n",
        "# - Returns a numeric/float result\n",
        "# - Zero amount -> zero tax\n",
        "# - Proportional: different (amount, rate) giving same product -> same tax\n",
        "\n",
        "# Q2) Scenarios tested:\n",
        "# - Typical case: (100, 0.10) -> 10.0\n",
        "# - Another typical case: (50, 0.20) -> 10.0\n",
        "# - Edge case: amount = 0 -> 0.0\n",
        "\n",
        "# Q3) Not tested (gaps):\n",
        "# - rate = 0, rate = 1.0, rate > 1, negative rate\n",
        "# - negative amount (refund/return)\n",
        "# - non-numeric inputs / None / Decimal vs float\n",
        "# - rounding policy (2 dp) & float precision issues\n",
        "# - very small/very large values\n",
        "# - input validation & error handling (raise on invalid?)"
      ]
    },
    {
      "cell_type": "markdown",
      "metadata": {
        "id": "ns9pjnI3xglQ"
      },
      "source": [
        "## Exercise 1.2: Writing Your First Assertions\n",
        "\n",
        "Write assertions for this function specification:\n",
        "\n",
        "**Specification:** A function `is_even(n)` that returns `True` if a number is even, `False` if odd."
      ]
    },
    {
      "cell_type": "code",
      "execution_count": null,
      "metadata": {
        "id": "64hY1i3axglQ"
      },
      "outputs": [],
      "source": [
        "def is_even(n):\n",
        "    \"\"\"Return True if n is even, False if odd.\"\"\"\n",
        "    return n % 2 == 0\n",
        "\n",
        "# Write at least 4 assertions testing different scenarios:\n",
        "# TODO: def is_even(n):\n",
        "    return n % 2 == 0\n",
        "\n",
        "# 1) Positive even number → should be True\n",
        "assert is_even(8) is True        # 8 % 2 == 0 → even\n",
        "\n",
        "# 2) Positive odd number → should be False\n",
        "assert is_even(7) is False       # 7 % 2 == 1 → odd\n",
        "\n",
        "# 3) Zero → should be True\n",
        "assert is_even(0) is True        # 0 % 2 == 0 → zero is even by definition\n",
        "\n",
        "# 4) Negative even number → should be True\n",
        "assert is_even(-4) is True       # -4 % 2 == 0 in Python → still divisible by 2\n"
      ]
    },
    {
      "cell_type": "raw",
      "metadata": {
        "id": "2jId5lNnxglQ"
      },
      "source": [
        "**Reflection questions:**\n",
        "- What test cases did you include?\n",
        "- Did you test negative numbers? Zero? Why or why not?\n",
        "\n",
        "---"
      ]
    },
    {
      "cell_type": "markdown",
      "metadata": {
        "id": "u8TgAVxQxglR"
      },
      "source": [
        "# Part 2: Specification Design (30 minutes)\n",
        "\n",
        "## Exercise 2.1: From Requirements to Specifications\n",
        "\n",
        "**Requirement:** \"Create a function that determines if a year is a leap year. Leap years are divisible by 4, except for years divisible by 100 (which are not leap years), unless they're also divisible by 400 (which are leap years).\"\n",
        "\n",
        "### Step 1: Understand the Requirement\n",
        "\n",
        "Write in plain language what the function should do:"
      ]
    },
    {
      "cell_type": "code",
      "execution_count": null,
      "metadata": {
        "id": "Rc2hyaGnxglR"
      },
      "outputs": [],
      "source": [
        "Make a function that tells you whether a given year has Feb 29 (a leap year) or not.\n",
        "1.If the year is divisible by 400, it is a leap year.\n",
        "2.Otherwise, if the year is divisible by 100, it is not a leap year.\n",
        "3.Otherwise, if the year is divisible by 4, it is a leap year.\n",
        "4.Otherwise, it’s not a leap year."
      ]
    },
    {
      "cell_type": "markdown",
      "metadata": {
        "id": "1y7dy7B6xglR"
      },
      "source": [
        "### Step 2: Apply Systematic Test Design Framework\n",
        "\n",
        "**Framework 1: Given/When/Then Structure**\n",
        "\n",
        "This helps you think clearly about test scenarios:\n",
        "- **Given** (context): What's the starting state?\n",
        "- **When** (action): What operation happens?\n",
        "- **Then** (outcome): What should result?\n",
        "\n",
        "**Framework 2: Equivalence Partitioning**\n",
        "\n",
        "Group inputs into categories that should behave the same way:\n",
        "- What are the different \"classes\" of inputs?\n",
        "- What's a representative example from each class?\n",
        "\n",
        "**Apply to Leap Year:**"
      ]
    },
    {
      "cell_type": "code",
      "execution_count": null,
      "metadata": {
        "id": "nzXxobFAxglR"
      },
      "outputs": [],
      "source": [
        "\"\"\"\n",
        "Equivalence Classes for Leap Year:\n",
        "\n",
        "1. LEAP: Years divisible by 400\n",
        "   Example: 2000\n",
        "\n",
        "2. NOT LEAP: Years divisible by 100 but not 400\n",
        "   Example: 1900\n",
        "\n",
        "3. LEAP: Years divisible by 4 but not 100\n",
        "   Example: 2024\n",
        "\n",
        "4. NOT LEAP: Years not divisible by 4\n",
        "   Example: 2023\n",
        "\n",
        "\"\"\""
      ]
    },
    {
      "cell_type": "markdown",
      "metadata": {
        "id": "DcJCf-2FxglR"
      },
      "source": [
        "**Now write as Given/When/Then:**"
      ]
    },
    {
      "cell_type": "code",
      "execution_count": null,
      "metadata": {
        "id": "3xSBT0h4xglR"
      },
      "outputs": [],
      "source": [
        "Scenario 1: Divisible by 400 → leap year\n",
        "\n",
        "Given the year 2000\n",
        "\n",
        "When I check is_leap_year(2000)\n",
        "\n",
        "Then the result should be True\n",
        "\n",
        "Scenario 2: Divisible by 100 but not by 400 → not a leap year\n",
        "\n",
        "Given the year 1900\n",
        "\n",
        "When I check is_leap_year(1900)\n",
        "\n",
        "Then the result should be False\n",
        "\n",
        "Scenario 3: Divisible by 4 but not by 100 → leap year\n",
        "\n",
        "Given the year 2024\n",
        "\n",
        "When I check is_leap_year(2024)\n",
        "\n",
        "Then the result should be True\n",
        "\n",
        "Scenario 4: Not divisible by 4 → not a leap year\n",
        "\n",
        "Given the year 2023\n",
        "\n",
        "When I check is_leap_year(2023)\n",
        "\n",
        "Then the result should be False"
      ]
    },
    {
      "cell_type": "markdown",
      "metadata": {
        "id": "S_WWbfK0xglR"
      },
      "source": [
        "**Boundary Analysis:**"
      ]
    },
    {
      "cell_type": "code",
      "execution_count": null,
      "metadata": {
        "id": "kfGz1idXxglR"
      },
      "outputs": [],
      "source": [
        "\"\"\"\n",
        "At the \"boundaries\" between categories, test both sides:\n",
        "\n",
        "Boundary at 100 divisibility:\n",
        "- 1896: leap (before boundary)\n",
        "- 1900: not leap (at boundary)\n",
        "- 1904: leap (after boundary)\n",
        "\n",
        "Boundary at 400 divisibility:\n",
        "- assert is_leap_year(1999) is False   # just before 2000; not /4\n",
        "- assert is_leap_year(2000) is True    # at boundary; divisible by 400 ⇒ leap\n",
        "- assert is_leap_year(2001) is False   # just after; not /4\n",
        "\n",
        "Boundary at 4 divisibility:\n",
        "- assert is_leap_year(2023) is False   # just before 2024; not divisible by 4\n",
        "- assert is_leap_year(2024) is True    # at boundary; divisible by 4 (and not by 100)\n",
        "- assert is_leap_year(2025) is False   # just after; not divisible by 4\n",
        "\n",
        "\n",
        "\"\"\""
      ]
    },
    {
      "cell_type": "markdown",
      "metadata": {
        "id": "GZ4DdU1zxglR"
      },
      "source": [
        "### Step 3: Evaluate Test Adequacy\n",
        "\n",
        "Before writing assertions, answer these strategic questions:"
      ]
    },
    {
      "cell_type": "code",
      "execution_count": null,
      "metadata": {
        "id": "aD5JrJ9ExglR"
      },
      "outputs": [],
      "source": [
        "\"\"\"\n",
        "Test Adequacy Check:\n",
        "\n",
        "1. Have I covered all equivalence classes?\n",
        "   □ Yes\n",
        "\n",
        "2. Have I tested boundaries between classes?\n",
        "   □ Yes\n",
        "\n",
        "3. What's the RISK if this function fails?\n",
        "   Medium\n",
        "\n",
        "4. Based on risk, how many tests do I need?\n",
        "   - Low risk: One per equivalence class (minimum)\n",
        "   - Medium risk: Add boundary tests\n",
        "   - High risk: Add extra edge cases, stress tests\n",
        "\n",
        "   My decision:\n",
        "    - Minimum: one per equivalence class (2000, 1900, 2024, 2023).\n",
        "   - Because risk is Medium: keep boundary tests (before + at) for 4/100/400.\n",
        "   - My decision: keep 6 tests total:\n",
        "       {Classes}    2000✓, 1900✓, 2024✓, 2023✓\n",
        "       {Neighbors}  1896✓ (before /100), 1999✓ (before /400)\n",
        "\n",
        "5. Am I over-testing? (Could I remove tests without losing confidence?)\n",
        "→ Yes. Remove “after” neighbors (2001, 1901, 2025) and duplicate /4 examples\n",
        "     (e.g., 1904). The 6 tests above give high confidence without redundancy.\n",
        "\"\"\""
      ]
    },
    {
      "cell_type": "markdown",
      "metadata": {
        "id": "lXRkMWQOxglR"
      },
      "source": [
        "### Step 4: Write Executable Specifications\n",
        "\n",
        "Now convert your scenarios to assertions:"
      ]
    },
    {
      "cell_type": "code",
      "execution_count": null,
      "metadata": {
        "id": "MHOIKrelxglS"
      },
      "outputs": [],
      "source": [
        "def is_leap_year(year):\n",
        "    \"\"\"\n",
        "    Determine if a year is a leap year.\n",
        "\n",
        "    Rules:\n",
        "    - Divisible by 4: leap year\n",
        "    - Divisible by 100: NOT a leap year\n",
        "    - Divisible by 400: leap year\n",
        "    \"\"\"\n",
        "    # You'll implement this with AI assistance later\n",
        "    pass\n",
        "\n",
        "# Write your assertions here (one per equivalence class minimum):\n",
        "# assert is_leap_year(2000) == True   # Class 1: divisible by 400\n",
        "# assert is_leap_year(1900) == False  # Class 2: divisible by 100 but not 400\n",
        "\n",
        "# --- Equivalence classes (one per class) ---\n",
        "assert is_leap_year(2000) is True    # /400  → leap\n",
        "assert is_leap_year(1900) is False   # /100 but not /400 → not leap\n",
        "assert is_leap_year(2024) is True    # /4 but not /100 → leap\n",
        "assert is_leap_year(2023) is False   # not /4 → not leap\n",
        "\n",
        "# --- Boundary around divisibility by 4 (before / at / after) ---\n",
        "assert is_leap_year(2023) is False   # before: not /4\n",
        "assert is_leap_year(2024) is True    # at: /4 (and not /100)\n",
        "assert is_leap_year(2025) is False   # after: not /4\n",
        "\n",
        "# --- Boundary around divisibility by 100 (century not /400) ---\n",
        "assert is_leap_year(1896) is True    # before: /4 but not /100\n",
        "assert is_leap_year(1900) is False   # at: /100, not /400 ⇒ not leap\n",
        "assert is_leap_year(1904) is True    # after: /4 but not /100\n",
        "\n",
        "# --- Boundary around divisibility by 400 (override to leap) ---\n",
        "assert is_leap_year(1999) is False   # before: not /4\n",
        "assert is_leap_year(2000) is True    # at: /400 ⇒ leap\n",
        "assert is_leap_year(2001) is False   # after: not /4\n"
      ]
    },
    {
      "cell_type": "markdown",
      "metadata": {
        "id": "X-kqEcoOxglS"
      },
      "source": [
        "## Exercise 2.2: AI-Assisted Scenario Discovery\n",
        "\n",
        "**Task:** Use AI to help you think comprehensively about test scenarios.\n",
        "\n",
        "**Your prompt to AI:**\n",
        "```\n",
        "I'm testing a leap year function with these rules:\n",
        "\n",
        "- Divisible by 4: leap year\n",
        "- Divisible by 100: NOT leap year  \n",
        "- Divisible by 400: leap year\n",
        "\n",
        "What test scenarios should I consider? Include:\n",
        "- Normal cases\n",
        "- Edge cases\n",
        "- Boundary conditions\n",
        "- Any tricky scenarios I might miss\n",
        "```\n",
        "\n",
        "**Copy AI's response here:**"
      ]
    },
    {
      "cell_type": "code",
      "execution_count": null,
      "metadata": {
        "id": "Wrckk-KixglS"
      },
      "outputs": [],
      "source": [
        "assert is_leap_year(2024) is True   # /4, not /100\n",
        "assert is_leap_year(2023) is False  # not /4\n",
        "assert is_leap_year(1900) is False  # /100 but not /400\n",
        "assert is_leap_year(2000) is True   # /400 (overrides /100)\n",
        "\n",
        "# Negative / year 0 (proleptic vs real Gregorian). Choose policy:\n",
        "# If allowed:\n",
        "assert is_leap_year(-4)   is True\n",
        "assert is_leap_year(-100) is False\n",
        "assert is_leap_year(-400) is True\n",
        "# If NOT allowed, then expect exceptions:\n",
        "# with pytest.raises(ValueError): is_leap_year(0)\n",
        "# with pytest.raises(ValueError): is_leap_year(-1)\n",
        "\n",
        "# Non-integers / types:\n",
        "# with pytest.raises(TypeError): is_leap_year(2024.0)   # or coerce explicitly\n",
        "# with pytest.raises(TypeError): is_leap_year(\"2024\")\n",
        "# with pytest.raises(TypeError): is_leap_year(True)     # bools are ints in Python; guard if needed\n",
        "\n",
        "# Very large year (performance/overflow):\n",
        "assert is_leap_year(10**12) in (True, False)  # should run fast and deterministically\n",
        "\n",
        "# /4 boundary\n",
        "assert is_leap_year(2023) is False\n",
        "assert is_leap_year(2024) is True\n",
        "assert is_leap_year(2025) is False\n",
        "\n",
        "# /100 boundary (not /400)\n",
        "assert is_leap_year(1896) is True\n",
        "assert is_leap_year(1900) is False\n",
        "assert is_leap_year(1904) is True\n",
        "\n",
        "# /400 boundary (override)\n",
        "assert is_leap_year(1999) is False\n",
        "assert is_leap_year(2000) is True\n",
        "assert is_leap_year(2001) is False\n",
        "\n",
        "\n"
      ]
    },
    {
      "cell_type": "markdown",
      "metadata": {
        "id": "yIF5EJWZxglS"
      },
      "source": [
        "**Your evaluation:**"
      ]
    },
    {
      "cell_type": "code",
      "execution_count": null,
      "metadata": {
        "id": "Jr2eYXp7xglS"
      },
      "outputs": [],
      "source": [
        "\"\"\"\n",
        "Which of AI's suggestions are relevant?\n",
        "- Equivalence-class tests ( /400, /100 only, /4 only, not /4 )\n",
        "- Boundary checks around 4, 100, 400 (before + at)\n",
        "- Rule precedence check (400 overrides 100)\n",
        "- A minimal but high-confidence suite to avoid redundancy\n",
        "\n",
        "Which did you already have?\n",
        "- Core class examples: 2000✓, 1900✓, 2024✓, 2023✓\n",
        "- Some boundary cases around /4 and /400\n",
        "\n",
        "Which are new and valuable?\n",
        "- Add “neighbor” tests just before boundaries: 1896 (before /100), 1999 (before /400)\n",
        "- Type/validation ideas: reject non-ints (e.g., \"2024\", 2024.0, True) or define policy\n",
        "- Decide policy for negative years / year 0 and test accordingly\n",
        "- Property/numerical sanity: 97 leap years in any 400-year span (optional)\n",
        "- Guidance to remove duplicate “after” cases to keep the suite lean\n",
        "\n",
        "Any suggestions that don't apply?\n",
        "- Negative/proleptic year tests if the assignment scopes to Gregorian years ≥ 1583 only\n",
        "- Performance/very-large-year stress tests (function is O(1), not a bottleneck)\n",
        "- Full 400-year property sweep if the brief only wants a few unit tests\n",
        "\"\"\"\n"
      ]
    },
    {
      "cell_type": "markdown",
      "metadata": {
        "id": "xxujuF4uxglS"
      },
      "source": [
        "---\n",
        "\n",
        "# Part 3: The Specify → Generate → Verify Cycle (40 minutes)\n",
        "\n",
        "## Exercise 3.1: Complete Implementation Workflow\n",
        "\n",
        "You'll now complete the leap year function using the full workflow.\n",
        "\n",
        "### Step 1: Your Specifications (already done above)\n",
        "\n",
        "Review your assertions from Exercise 2.1.\n",
        "\n",
        "### Step 2: Ask AI to Implement\n",
        "\n",
        "**Your prompt to AI:**\n",
        "```\n",
        "Write a Python function is_leap_year(year) that implements these rules:\n",
        "\n",
        "- Divisible by 4: leap year\n",
        "- Divisible by 100: NOT leap year\n",
        "- Divisible by 400: leap year\n",
        "\n",
        "Make these assertions pass:\n",
        "[paste your assertions here]\n",
        "\n",
        "Use only basic Python (if statements, boolean operators).\n",
        "Keep it simple and readable.\n",
        "```\n",
        "\n",
        "**Paste AI's implementation here:**"
      ]
    },
    {
      "cell_type": "code",
      "execution_count": 10,
      "metadata": {
        "id": "zWOXyGjjxglS"
      },
      "outputs": [],
      "source": [
        "# AI's implementation\n",
        "def is_leap_year(year):\n",
        "    \"\"\"\n",
        "    Return True if 'year' is a leap year, else False.\n",
        "\n",
        "    Rules:\n",
        "    - Divisible by 400 → leap year\n",
        "    - Divisible by 100 → NOT a leap year\n",
        "    - Divisible by 4   → leap year\n",
        "    \"\"\"\n",
        "    if year % 400 == 0:\n",
        "        return True\n",
        "    if year % 100 == 0:\n",
        "        return False\n",
        "    return year % 4 == 0\n"
      ]
    },
    {
      "cell_type": "markdown",
      "metadata": {
        "id": "xWul-hW8xglS"
      },
      "source": [
        "### Step 3: Verify\n",
        "\n",
        "Run the code with your assertions. Do they all pass?"
      ]
    },
    {
      "cell_type": "code",
      "execution_count": 9,
      "metadata": {
        "id": "LvybBUZKxglS",
        "colab": {
          "base_uri": "https://localhost:8080/"
        },
        "outputId": "a6f3778a-21fa-4b8a-b1b6-b4ccbfd6fccf"
      },
      "outputs": [
        {
          "output_type": "stream",
          "name": "stdout",
          "text": [
            "All tests passed!\n"
          ]
        }
      ],
      "source": [
        "def is_leap_year(year):\n",
        "    \"\"\"\n",
        "    Return True if 'year' is a leap year, else False.\n",
        "\n",
        "    Rules:\n",
        "    - Divisible by 400 → leap year\n",
        "    - Divisible by 100 → NOT a leap year\n",
        "    - Divisible by 4   → leap year\n",
        "    \"\"\"\n",
        "    if year % 400 == 0:\n",
        "        return True\n",
        "    if year % 100 == 0:\n",
        "        return False\n",
        "    return (year % 4 == 0)\n",
        "\n",
        "\n",
        "def run_assertions():\n",
        "    # --- Equivalence classes (one per class) ---\n",
        "    assert is_leap_year(2000) is True    # /400 → leap\n",
        "    assert is_leap_year(1900) is False   # /100 but not /400 → not leap\n",
        "    assert is_leap_year(2024) is True    # /4 but not /100 → leap\n",
        "    assert is_leap_year(2023) is False   # not /4 → not leap\n",
        "\n",
        "    # --- Boundary around divisibility by 4 (before / at / after) ---\n",
        "    assert is_leap_year(2023) is False\n",
        "    assert is_leap_year(2024) is True\n",
        "    assert is_leap_year(2025) is False\n",
        "\n",
        "    # --- Boundary around divisibility by 100 (century not /400) ---\n",
        "    assert is_leap_year(1896) is True\n",
        "    assert is_leap_year(1900) is False\n",
        "    assert is_leap_year(1904) is True\n",
        "\n",
        "    # --- Boundary around divisibility by 400 (override to leap) ---\n",
        "    assert is_leap_year(1999) is False\n",
        "    assert is_leap_year(2000) is True\n",
        "    assert is_leap_year(2001) is False\n",
        "\n",
        "\n",
        "# --------- Test runner / result message ----------\n",
        "try:\n",
        "    run_assertions()\n",
        "    all_passed = True\n",
        "except AssertionError as e:\n",
        "    all_passed = False\n",
        "\n",
        "print(\"All tests passed!\" if all_passed else \"Some tests failed\")\n"
      ]
    },
    {
      "cell_type": "markdown",
      "metadata": {
        "id": "1CLelaSrxglS"
      },
      "source": [
        "### Step 4: Evaluate Code Quality\n",
        "\n",
        "Answer these questions about AI's implementation:"
      ]
    },
    {
      "cell_type": "code",
      "execution_count": null,
      "metadata": {
        "id": "t1CNHc5axglS"
      },
      "outputs": [],
      "source": [
        "\"\"\"\n",
        "1) Is the code simple enough for a beginner to understand?\n",
        "→ Yes. It’s a short sequence of if/return statements with a clear docstring. No tricky syntax.\n",
        "\n",
        "2) Does it use only basic Python features?\n",
        "→ Yes. Only modulo (%), boolean comparisons (==, !=), and if/return. No libraries or advanced constructs.\n",
        "\n",
        "3) Is the logic clear and correct?\n",
        "→ Yes. The check order enforces the rule priority:\n",
        "   - /400 first → leap\n",
        "   - else if /100 → not leap\n",
        "   - else if /4 → leap\n",
        "   - else → not\n",
        "   Our test set (2000✓, 1900✗, 2024✓, 2023✗, plus boundaries) all pass.\n",
        "\n",
        "4) Would you have solved it differently? How?\n",
        "→ Option A (one-liner, still basic & readable):\n",
        "   return (year % 400 == 0) or (year % 4 == 0 and year % 100 != 0)\n",
        "   (Good when you want the rule in one expression.)\n",
        "\n",
        "   Option B (same logic, nested for compactness):\n",
        "   if year % 4 != 0: return False\n",
        "   if year % 100 != 0: return True\n",
        "   return year % 400 == 0\n",
        "\n",
        "   (Optional, if your course allows) Input validation:\n",
        "   - raise TypeError for non-ints, or define how to handle year 0/negatives.\n",
        "\"\"\"\n"
      ]
    },
    {
      "cell_type": "markdown",
      "metadata": {
        "id": "C5RofSL1xglS"
      },
      "source": [
        "### Step 5: Request Simplification (if needed)\n",
        "\n",
        "If the code is too complex, ask AI to simplify:\n",
        "\n",
        "**Your prompt:**\n",
        "```\n",
        "This works but is too complex for a beginner.\n",
        "Can you rewrite it using only simple if statements?\n",
        "Make the logic as clear as possible.\n",
        "```\n",
        "\n",
        "**Simpler version (if needed):**"
      ]
    },
    {
      "cell_type": "code",
      "execution_count": 11,
      "metadata": {
        "id": "KoDbaZ2MxglS",
        "colab": {
          "base_uri": "https://localhost:8080/",
          "height": 106
        },
        "outputId": "277c59bc-1979-4347-e9e8-7bfe82df7995"
      },
      "outputs": [
        {
          "output_type": "error",
          "ename": "IndentationError",
          "evalue": "unexpected indent (ipython-input-1346506392.py, line 2)",
          "traceback": [
            "\u001b[0;36m  File \u001b[0;32m\"/tmp/ipython-input-1346506392.py\"\u001b[0;36m, line \u001b[0;32m2\u001b[0m\n\u001b[0;31m    \"\"\"\u001b[0m\n\u001b[0m    ^\u001b[0m\n\u001b[0;31mIndentationError\u001b[0m\u001b[0;31m:\u001b[0m unexpected indent\n"
          ]
        }
      ],
      "source": [
        "# Simplified implementation:def is_leap_year(year):\n",
        "    \"\"\"\n",
        "    Return True if 'year' is a leap year, else False.\n",
        "    Rules:\n",
        "      - /400  → leap year\n",
        "      - /100  → NOT a leap year\n",
        "      - /4    → leap year\n",
        "    \"\"\"\n",
        "    # Rule 1: centuries divisible by 400 ARE leap years\n",
        "    if year % 400 == 0:\n",
        "        return True\n",
        "\n",
        "    # Rule 2: other centuries (divisible by 100) are NOT leap years\n",
        "    if year % 100 == 0:\n",
        "        return False\n",
        "\n",
        "    # Rule 3: other years divisible by 4 ARE leap years\n",
        "    if year % 4 == 0:\n",
        "        return True\n",
        "\n",
        "    # Otherwise NOT a leap year\n",
        "    return False\n"
      ]
    },
    {
      "cell_type": "markdown",
      "metadata": {
        "id": "xrgzYLu-xglS"
      },
      "source": [
        "---\n",
        "\n",
        "# Part 4: Test Design Practice (40 minutes)\n",
        "\n",
        "## Exercise 4.1: Strategic Test Design with Risk Analysis\n",
        "\n",
        "**Scenario:** You need to test a password strength validator.\n",
        "\n",
        "**Requirements:**\n",
        "- Password must be at least 8 characters\n",
        "- Must contain at least one uppercase letter\n",
        "- Must contain at least one number\n",
        "- Must contain at least one special character (!@#$%^&*)\n",
        "\n",
        "### Step 1: Risk Assessment"
      ]
    },
    {
      "cell_type": "code",
      "execution_count": null,
      "metadata": {
        "id": "WAZOh2asxglT"
      },
      "outputs": [],
      "source": [
        "\"\"\"\n",
        "Risk Analysis:\n",
        "\n",
        "1. What happens if this function fails?\n",
        "   - Security risk: Weak passwords may be accepted.\n",
        "   - UX impact: Users may be frustrated by false failures.\n",
        "   - Business impact: Potential data breach\n",
        "\n",
        "\n",
        "2. Risk level: □ High\n",
        "\n",
        "3. Based on this risk, my testing strategy should be:\n",
        "   ☑ Comprehensive\n",
        "\"\"\""
      ]
    },
    {
      "cell_type": "markdown",
      "metadata": {
        "id": "HiJ1WrPoxglT"
      },
      "source": [
        "### Step 2: Equivalence Partitioning"
      ]
    },
    {
      "cell_type": "code",
      "execution_count": null,
      "metadata": {
        "id": "KM2XLycPxglT"
      },
      "outputs": [],
      "source": [
        "\"\"\"\n",
        "Identify equivalence classes (categories that behave the same)\n",
        "for a password validator with rules:\n",
        "- length ≥ 8\n",
        "- contains at least one uppercase letter [A–Z]\n",
        "- contains at least one digit [0–9]\n",
        "- contains at least one special from {! @ # $ % ^ & *}\n",
        "\n",
        "VALID class (all requirements met):\n",
        "- Example: \"Secure1!\"   # length 8, has 'S', has '1', has '!'\n",
        "\n",
        "INVALID classes (each requirement violation):\n",
        "- Too short (< 8 chars):\n",
        "  Example: \"Aa1!\"       # length 4 (even though it has upper/num/special)\n",
        "- Missing uppercase:\n",
        "  Example: \"secure1!\"   # length 8, digit + special ok, but no A–Z\n",
        "- Missing number:\n",
        "  Example: \"Secure!!\"   # length 8, uppercase + specials ok, but no digit\n",
        "- Missing special char:\n",
        "  Example: \"Secure12\"   # length 8, uppercase + digits ok, but no !@#$%^&*\n",
        "- Multiple violations (fails ≥2 rules):\n",
        "  Example: \"short\"      # length 5, no uppercase, no digit, no special\n",
        "\n",
        "Do I need to test EVERY invalid combination?\n",
        "Decision: No\n",
        "Reasoning:\n",
        "- Each invalid class above represents a whole set of failing inputs that behave the same.\n",
        "- One representative per class gives high confidence; add “multiple violations” to ensure combined failures are handled.\n",
        "- Extra combinations are redundant unless your spec requires pairwise/coverage metrics.\n",
        "\"\"\"\n"
      ]
    },
    {
      "cell_type": "markdown",
      "metadata": {
        "id": "Hw5HnLX0xglT"
      },
      "source": [
        "### Step 3: Boundary Analysis"
      ]
    },
    {
      "cell_type": "code",
      "execution_count": null,
      "metadata": {
        "id": "DqA3QrDtxglT"
      },
      "outputs": [],
      "source": [
        "\"\"\"\n",
        "Key boundaries to test:\n",
        "\n",
        "Length boundary (8 characters):\n",
        "- 7 chars (just under):  \"Aa1!aaa\"    → INVALID (too short; even though it has upper/number/special)\n",
        "- 8 chars (exactly at):  \"Aa1!aaaa\"   → VALID   (meets all rules at the limit)\n",
        "- 9 chars (just over):   \"Aa1!aaaaa\"  → VALID   (meets all rules, length > 8)\n",
        "\n",
        "Other boundaries:\n",
        "- Empty string:          \"\"           → INVALID (fails all rules)\n",
        "- Very long (100+):      \"A1!\" + \"a\"*97  → VALID (length 100; has uppercase, digit, special)\n",
        "- Only special chars:    \"!!!!!!!!\"   → INVALID (missing uppercase and number)\n",
        "\"\"\"\n"
      ]
    },
    {
      "cell_type": "markdown",
      "metadata": {
        "id": "fRmVfQovxglT"
      },
      "source": [
        "### Step 4: Test Adequacy Decision"
      ]
    },
    {
      "cell_type": "code",
      "execution_count": null,
      "metadata": {
        "id": "yYOUvLmyxglc"
      },
      "outputs": [],
      "source": [
        "\"\"\"\n",
        "How many tests is enough?\n",
        "\n",
        "Minimum viable: 5 tests (one per equivalence class)\n",
        "- VALID (all rules met):         \"Secure1!\"          # len=8, has Upper, digit, special\n",
        "- Too short (<8):                \"Aa1!\"              # len=4\n",
        "- Missing uppercase:             \"secure1!\"          # no A–Z\n",
        "- Missing number:                \"Secure!!\"          # no 0–9\n",
        "- Missing special (!@#$%^&*):    \"Secure12\"          # no special\n",
        "\n",
        "My plan: 9 tests\n",
        "- The 5 class reps above\n",
        "- Length boundary (7 / 8 / 9):\n",
        "  • 7 chars:  \"Aa1!aaa\"      → INVALID\n",
        "  • 8 chars:  \"Aa1!aaaa\"     → VALID\n",
        "  • 9 chars:  \"Aa1!aaaaa\"    → VALID\n",
        "- One “multiple violations” sample:\n",
        "  • \"!!!!!!!!\"               → INVALID (no upper, no digit)\n",
        "\n",
        "Why this number?\n",
        "- Covers each behavior class plus boundary behavior right around the 8-char rule,\n",
        "  and confirms the validator handles combined failures.\n",
        "\n",
        "Could I get the same confidence with fewer tests?\n",
        "- Yes. Drop the 9-char case (7 & 8 already exercise the threshold) and/or the\n",
        "  “multiple violations” sample if the function only returns True/False (no\n",
        "  per-rule messages). That would leave 7–8 tests with similar confidence.\n",
        "\n",
        "What am I NOT testing, and why is that OK?\n",
        "- Non-ASCII/unicode (e.g., Ü, Arabic digits), whitespace handling, input types\n",
        "  (None/int), specials outside the allowed set, strength policies (dictionary,\n",
        "  repeated chars), or extreme lengths (thousands). These are out of scope for\n",
        "  the current spec which only checks the four listed rules.\n",
        "\"\"\"\n"
      ]
    },
    {
      "cell_type": "markdown",
      "metadata": {
        "id": "f56sJ_Wyxglc"
      },
      "source": [
        "### Step 5: Write Specifications"
      ]
    },
    {
      "cell_type": "code",
      "execution_count": null,
      "metadata": {
        "id": "vU6B30voxglc"
      },
      "outputs": [],
      "source": [
        "# Based on your analysis, write focused assertions:\n",
        "\n",
        "def is_strong_password(password):\n",
        "    \"\"\"\n",
        "    Validate password strength.\n",
        "    Rules:\n",
        "      - length ≥ 8\n",
        "      - includes at least one uppercase letter [A-Z]\n",
        "      - includes at least one digit [0-9]\n",
        "      - includes at least one special from !@#$%^&*\n",
        "    \"\"\"\n",
        "    pass  # To be implemented later\n",
        "\n",
        "\n",
        "# --- Equivalence classes (one per class) ---\n",
        "assert is_strong_password(\"Secure1!\") is True     # VALID: meets all rules (len=8, upper, digit, special)\n",
        "assert is_strong_password(\"Aa1!\")      is False   # INVALID: too short (<8)\n",
        "assert is_strong_password(\"secure1!\")  is False   # INVALID: missing uppercase\n",
        "assert is_strong_password(\"Secure!!\")  is False   # INVALID: missing number\n",
        "assert is_strong_password(\"Secure12\")  is False   # INVALID: missing special\n",
        "\n",
        "# Multiple violations (combined failure)\n",
        "assert is_strong_password(\"!!!!!!!!\")  is False   # only specials; no upper, no digit\n",
        "\n",
        "# --- Boundary analysis around length 8 ---\n",
        "assert is_strong_password(\"Aa1!aaa\")   is False   # 7 chars (just under) → invalid\n",
        "assert is_strong_password(\"Aa1!aaaa\")  is True    # 8 chars (exactly)    → valid\n",
        "assert is_strong_password(\"Aa1!aaaaa\") is True    # 9 chars (just over)  → valid\n",
        "\n",
        "# Other boundaries\n",
        "assert is_strong_password(\"\")          is False   # empty string\n",
        "assert is_strong_password(\"A1!\" + \"a\"*97) is True # very long (100 chars) but still meets all rules\n"
      ]
    },
    {
      "cell_type": "markdown",
      "metadata": {
        "id": "Pco0m71wxglc"
      },
      "source": [
        "## Exercise 4.2: AI Implementation and Evaluation\n",
        "\n",
        "**Step 1:** Provide your specifications to AI and ask for implementation.\n",
        "\n",
        "**Your prompt:**"
      ]
    },
    {
      "cell_type": "code",
      "execution_count": null,
      "metadata": {
        "id": "OdadIg_oxglc"
      },
      "outputs": [],
      "source": [
        "Write a function is_strong_password(password) that returns True only if the password: Is at least 8 characters Contains at least one uppercase letter Contains at least one digit Contains at least one special character (!@#$%^&*) Here are my assertions: take all the assertion from the chat Keep the code clear and beginner-friendly."
      ]
    },
    {
      "cell_type": "markdown",
      "metadata": {
        "id": "AJIYH-mmxglc"
      },
      "source": [
        "**Step 2:** Get AI's implementation and paste it below:"
      ]
    },
    {
      "cell_type": "code",
      "execution_count": null,
      "metadata": {
        "id": "NyJSsi61xgld"
      },
      "outputs": [],
      "source": [
        "def is_strong_password(password):\n",
        "    \"\"\"\n",
        "    Return True only if the password:\n",
        "      - is at least 8 characters long\n",
        "      - has at least one UPPERCASE letter (A–Z)\n",
        "      - has at least one digit (0–9)\n",
        "      - has at least one special character from: ! @ # $ % ^ & *\n",
        "    \"\"\"\n",
        "    # Length check\n",
        "    if len(password) < 8:\n",
        "        return False\n",
        "\n",
        "    # Rule checks\n",
        "    specials = set(\"!@#$%^&*\")\n",
        "    has_upper = False\n",
        "    has_digit = False\n",
        "    has_special = False\n",
        "\n",
        "    for ch in password:\n",
        "        if 'A' <= ch <= 'Z':\n",
        "            has_upper = True\n",
        "        if ch.isdigit():\n",
        "            has_digit = True\n",
        "        if ch in specials:\n",
        "            has_special = True\n",
        "\n",
        "    return has_upper and has_digit and has_special"
      ]
    },
    {
      "cell_type": "markdown",
      "metadata": {
        "id": "-RTWwe6Uxgld"
      },
      "source": [
        "**Step 3:** Test it with your assertions:"
      ]
    },
    {
      "cell_type": "code",
      "execution_count": 12,
      "metadata": {
        "id": "o2TNDrslxgld",
        "colab": {
          "base_uri": "https://localhost:8080/"
        },
        "outputId": "bbeb66ba-ed6d-4e77-b8c0-fca7f8ec2ab6"
      },
      "outputs": [
        {
          "output_type": "stream",
          "name": "stdout",
          "text": [
            "All tests passed!\n"
          ]
        }
      ],
      "source": [
        "def is_strong_password(password):\n",
        "    \"\"\"\n",
        "    Return True only if the password:\n",
        "      - is at least 8 characters long\n",
        "      - has at least one UPPERCASE letter (A–Z)\n",
        "      - has at least one digit (0–9)\n",
        "      - has at least one special character from: ! @ # $ % ^ & *\n",
        "    \"\"\"\n",
        "    # Length check\n",
        "    if len(password) < 8:\n",
        "        return False\n",
        "\n",
        "    # Rule checks\n",
        "    specials = set(\"!@#$%^&*\")\n",
        "    has_upper = False\n",
        "    has_digit = False\n",
        "    has_special = False\n",
        "\n",
        "    for ch in password:\n",
        "        if 'A' <= ch <= 'Z':\n",
        "            has_upper = True\n",
        "        if ch.isdigit():\n",
        "            has_digit = True\n",
        "        if ch in specials:\n",
        "            has_special = True\n",
        "\n",
        "    return has_upper and has_digit and has_special\n",
        "\n",
        "\n",
        "# ----------------- Assertions (replace/add your own if needed) -----------------\n",
        "\n",
        "# Valid (meets all rules)\n",
        "assert is_strong_password(\"Secure1!\") is True      # len=8, has upper, digit, special\n",
        "\n",
        "# Invalid – one per major rule\n",
        "assert is_strong_password(\"Aa1!\")       is False   # too short (<8)\n",
        "assert is_strong_password(\"secure1!\")   is False   # missing uppercase\n",
        "assert is_strong_password(\"Secure!!\")   is False   # missing digit\n",
        "assert is_strong_password(\"Secure12\")   is False   # missing special\n",
        "\n",
        "# Multiple violations\n",
        "assert is_strong_password(\"!!!!!!!!\")   is False   # only specials\n",
        "\n",
        "# Length boundary checks\n",
        "assert is_strong_password(\"Aa1!aaa\")    is False   # 7 chars (just under)\n",
        "assert is_strong_password(\"Aa1!aaaa\")   is True    # 8 chars (at limit)\n",
        "assert is_strong_password(\"Aa1!aaaaa\")  is True    # 9 chars (just over)\n",
        "\n",
        "# Other boundaries\n",
        "assert is_strong_password(\"\")           is False   # empty string\n",
        "assert is_strong_password(\"A1!\" + \"a\"*97) is True  # very long (100 chars) but valid\n",
        "\n",
        "print(\"All tests passed!\")\n"
      ]
    },
    {
      "cell_type": "markdown",
      "metadata": {
        "id": "V_KjIXfoxgld"
      },
      "source": [
        "**Step 4:** Critical Evaluation"
      ]
    },
    {
      "cell_type": "code",
      "execution_count": null,
      "metadata": {
        "id": "1hVkfNkFxgld"
      },
      "outputs": [],
      "source": [
        "\"\"\"\n",
        "Strategic Evaluation:\n",
        "\n",
        "1) Does it pass all your assertions?\n",
        "   ☑ Yes — the valid case, each invalid class, and the boundary tests (7/8/9, empty,\n",
        "     only specials, very long) all pass.\n",
        "\n",
        "2) Code Simplicity:\n",
        "   - Beginner-friendly? ☑ Yes — linear checks, one for-loop, early returns.\n",
        "   - Only basic Python? ☑ Yes — uses len(), for, if, comparisons, str.isdigit, and\n",
        "     simple set membership.\n",
        "   - Simpler approach? A similarly clear variant still using only ifs:\n",
        "       specials = \"!@#$%^&*\"\n",
        "       # loop sets has_upper / has_digit / has_special, then return the AND\n",
        "\n",
        "3) Bugs / issues found?\n",
        "   - None for the stated spec.\n",
        "   - Design choices to confirm:\n",
        "     • Uppercase check: current 'A'<=ch<='Z' (ASCII). If you want non-ASCII (e.g., Ü),\n",
        "       use ch.isupper().\n",
        "     • Non-string inputs: len(password) would error. Add a guard if needed:\n",
        "         if not isinstance(password, str): return False\n",
        "     • Spaces count toward length; allowed unless policy forbids them.\n",
        "\n",
        "4) Test Coverage:\n",
        "   - Possible gaps (optional to add):\n",
        "     • Unicode uppercase (e.g., \"Ü1!aaaaa\")\n",
        "     • Inputs with spaces (e.g., \"Aa1!aaa \")\n",
        "     • Non-string inputs (None, 123) → expect False or raise TypeError\n",
        "     • Characters outside the allowed specials (e.g., \"?\") should not pass\n",
        "   - Decision: For the assignment, leave as-is; for production, add the four tests above.\n",
        "\n",
        "5) Should you request simplification?\n",
        "   - Not necessary; code already uses only basic if statements and is readable.\n",
        "   - If required by rubric, prompt:\n",
        "     \"Make this simpler using only basic if statements (no any(), regex, or list comprehensions).\"\n",
        "\"\"\"\n"
      ]
    }
  ],
  "metadata": {
    "kernelspec": {
      "display_name": "Python 3",
      "language": "python",
      "name": "python3"
    },
    "colab": {
      "provenance": [],
      "include_colab_link": true
    }
  },
  "nbformat": 4,
  "nbformat_minor": 0
}
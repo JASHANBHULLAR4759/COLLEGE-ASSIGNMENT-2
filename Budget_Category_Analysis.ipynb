{
  "nbformat": 4,
  "nbformat_minor": 0,
  "metadata": {
    "colab": {
      "provenance": [],
      "authorship_tag": "ABX9TyNVL22FGDaGgP8vmoncBlgu",
      "include_colab_link": true
    },
    "kernelspec": {
      "name": "python3",
      "display_name": "Python 3"
    },
    "language_info": {
      "name": "python"
    }
  },
  "cells": [
    {
      "cell_type": "markdown",
      "metadata": {
        "id": "view-in-github",
        "colab_type": "text"
      },
      "source": [
        "<a href=\"https://colab.research.google.com/github/JASHANBHULLAR4759/COLLEGE-ASSIGNMENT-2/blob/main/Budget_Category_Analysis.ipynb\" target=\"_parent\"><img src=\"https://colab.research.google.com/assets/colab-badge.svg\" alt=\"Open In Colab\"/></a>"
      ]
    },
    {
      "cell_type": "code",
      "execution_count": 6,
      "metadata": {
        "colab": {
          "base_uri": "https://localhost:8080/"
        },
        "id": "VKlE-QRVyPaw",
        "outputId": "b35def5c-d8b5-4935-cc7b-05e58cf2544f"
      },
      "outputs": [
        {
          "output_type": "stream",
          "name": "stdout",
          "text": [
            "💰 Monthly Budget Recommendations:\n",
            "        Category Avg_Monthly_Spend Std_Dev Suggested_Budget\n",
            "0         Coffee            $37.95    $nan           $37.95\n",
            "1         Dining           $113.90    $nan          $113.90\n",
            "2  Entertainment           $206.95    $nan          $206.95\n",
            "3      Groceries           $394.70    $nan          $394.70\n",
            "4         Refund           $-37.50    $nan          $-37.50\n",
            "5      Transport            $89.50    $nan           $89.50\n",
            "6      Utilities            $67.80    $nan           $67.80\n"
          ]
        },
        {
          "output_type": "stream",
          "name": "stderr",
          "text": [
            "<>:6: SyntaxWarning: invalid escape sequence '\\$'\n",
            "<>:6: SyntaxWarning: invalid escape sequence '\\$'\n",
            "/tmp/ipython-input-952591817.py:6: SyntaxWarning: invalid escape sequence '\\$'\n",
            "  transactions_df['Amount'] = transactions_df['Amount'].replace('[\\$,]', '', regex=True).astype(float)\n"
          ]
        }
      ],
      "source": [
        "import pandas as pd\n",
        "\n",
        "# Load and clean data\n",
        "transactions_df = pd.read_csv('transactions.csv')\n",
        "transactions_df['Date'] = pd.to_datetime(transactions_df['Date'])\n",
        "transactions_df['Amount'] = transactions_df['Amount'].replace('[\\$,]', '', regex=True).astype(float)\n",
        "\n",
        "# Extract month\n",
        "transactions_df['Month'] = transactions_df['Date'].dt.to_period('M')\n",
        "\n",
        "# 1. Monthly spend per category\n",
        "monthly = transactions_df.groupby(['Category', 'Month'])['Amount'].sum().reset_index()\n",
        "\n",
        "# 2. Average and standard deviation\n",
        "category_stats = monthly.groupby('Category')['Amount'].agg(['mean', 'std']).reset_index()\n",
        "category_stats.columns = ['Category', 'Avg_Monthly_Spend', 'Std_Dev']\n",
        "\n",
        "# 3. Suggest budgets: 80% of average for high-variance categories (std > $50)\n",
        "category_stats['Suggested_Budget'] = category_stats.apply(\n",
        "    lambda x: x['Avg_Monthly_Spend'] * 0.8 if x['Std_Dev'] > 50 else x['Avg_Monthly_Spend'], axis=1)\n",
        "\n",
        "# 4. Format values\n",
        "category_stats['Avg_Monthly_Spend'] = category_stats['Avg_Monthly_Spend'].map('${:,.2f}'.format)\n",
        "category_stats['Std_Dev'] = category_stats['Std_Dev'].map('${:,.2f}'.format)\n",
        "category_stats['Suggested_Budget'] = category_stats['Suggested_Budget'].map('${:,.2f}'.format)\n",
        "\n",
        "# Display\n",
        "print(\"💰 Monthly Budget Recommendations:\")\n",
        "print(category_stats)\n",
        "\n"
      ]
    }
  ]
}
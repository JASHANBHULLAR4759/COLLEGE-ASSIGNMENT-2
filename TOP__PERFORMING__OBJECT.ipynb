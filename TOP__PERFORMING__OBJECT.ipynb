{
  "nbformat": 4,
  "nbformat_minor": 0,
  "metadata": {
    "colab": {
      "provenance": [],
      "authorship_tag": "ABX9TyPPaYodyaEqtzcIwOdBKrFu",
      "include_colab_link": true
    },
    "kernelspec": {
      "name": "python3",
      "display_name": "Python 3"
    },
    "language_info": {
      "name": "python"
    }
  },
  "cells": [
    {
      "cell_type": "markdown",
      "metadata": {
        "id": "view-in-github",
        "colab_type": "text"
      },
      "source": [
        "<a href=\"https://colab.research.google.com/github/JASHANBHULLAR4759/COLLEGE-ASSIGNMENT-2/blob/main/TOP__PERFORMING__OBJECT.ipynb\" target=\"_parent\"><img src=\"https://colab.research.google.com/assets/colab-badge.svg\" alt=\"Open In Colab\"/></a>"
      ]
    },
    {
      "cell_type": "code",
      "execution_count": 3,
      "metadata": {
        "colab": {
          "base_uri": "https://localhost:8080/"
        },
        "id": "g8QxjDJpxs5B",
        "outputId": "fbbb9e27-64da-48e7-b7ab-3d65d439ffcc"
      },
      "outputs": [
        {
          "output_type": "stream",
          "name": "stdout",
          "text": [
            "💰 Top 5 Products by Revenue:\n",
            "                       Product  Total_Sale\n",
            "0      Laptop - Business Grade  $22,788.00\n",
            "1     Whiteboard - Interactive   $7,596.00\n",
            "2            Monitor - 27 inch   $7,002.00\n",
            "3      Router - Business Grade   $4,998.75\n",
            "4  Business Analytics Software   $4,998.00\n",
            "\n",
            "📦 Top 5 Products by Quantity Sold:\n",
            "                   Product Quantity\n",
            "0       UPS Battery Backup       $9\n",
            "1  Printer - Multifunction       $8\n",
            "2            Standing Desk       $8\n",
            "3    Air Purifier - Office       $7\n",
            "4  Projector - 4K Business       $6\n",
            "\n",
            "🏷️ Top 5 Products by Average Unit Price (High Margin):\n",
            "                       Product Unit_Price\n",
            "0  Business Analytics Software  $2,499.00\n",
            "1      Laptop - Business Grade  $1,899.00\n",
            "2     Whiteboard - Interactive  $1,899.00\n",
            "3       Security Camera System  $1,299.00\n",
            "4             Conference Table  $1,250.00\n"
          ]
        },
        {
          "output_type": "stream",
          "name": "stderr",
          "text": [
            "<>:7: SyntaxWarning: invalid escape sequence '\\$'\n",
            "<>:8: SyntaxWarning: invalid escape sequence '\\$'\n",
            "<>:7: SyntaxWarning: invalid escape sequence '\\$'\n",
            "<>:8: SyntaxWarning: invalid escape sequence '\\$'\n",
            "/tmp/ipython-input-827000164.py:7: SyntaxWarning: invalid escape sequence '\\$'\n",
            "  sales_df['Unit_Price'] = sales_df['Unit_Price'].replace('[\\$,]', '', regex=True).astype(float)\n",
            "/tmp/ipython-input-827000164.py:8: SyntaxWarning: invalid escape sequence '\\$'\n",
            "  sales_df['Total_Sale'] = sales_df['Total_Sale'].replace('[\\$,]', '', regex=True).astype(float)\n"
          ]
        }
      ],
      "source": [
        "import pandas as pd\n",
        "\n",
        "# Load sales data\n",
        "sales_df = pd.read_csv('sales_data.csv')\n",
        "\n",
        "# Clean monetary columns\n",
        "sales_df['Unit_Price'] = sales_df['Unit_Price'].replace('[\\$,]', '', regex=True).astype(float)\n",
        "sales_df['Total_Sale'] = sales_df['Total_Sale'].replace('[\\$,]', '', regex=True).astype(float)\n",
        "\n",
        "# 1. Top 5 products by total revenue\n",
        "top_revenue = sales_df.groupby('Product')['Total_Sale'].sum().sort_values(ascending=False).head(5).reset_index()\n",
        "top_revenue['Total_Sale'] = top_revenue['Total_Sale'].map('${:,.2f}'.format)\n",
        "\n",
        "# 2. Top 5 products by quantity sold\n",
        "top_quantity = sales_df.groupby('Product')['Quantity'].sum().sort_values(ascending=False).head(5).reset_index()\n",
        "\n",
        "# 3. Top 5 products by highest average unit price\n",
        "top_margin = sales_df.groupby('Product')['Unit_Price'].mean().sort_values(ascending=False).head(5).reset_index()\n",
        "top_margin['Unit_Price'] = top_margin['Unit_Price'].map('${:,.2f}'.format)\n",
        "\n",
        "# Display results\n",
        "print(\"💰 Top 5 Products by Revenue:\")\n",
        "print(top_revenue)\n",
        "\n",
        "print(\"\\n📦 Top 5 Products by Quantity Sold:\")\n",
        "print(top_quantity)\n",
        "\n",
        "print(\"\\n🏷️ Top 5 Products by Average Unit Price (High Margin):\")\n",
        "print(top_margin)\n"
      ]
    }
  ]
}
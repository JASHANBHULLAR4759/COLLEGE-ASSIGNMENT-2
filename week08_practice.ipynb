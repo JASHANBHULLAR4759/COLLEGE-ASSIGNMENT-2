{
  "cells": [
    {
      "cell_type": "markdown",
      "metadata": {
        "id": "view-in-github",
        "colab_type": "text"
      },
      "source": [
        "<a href=\"https://colab.research.google.com/github/JASHANBHULLAR4759/COLLEGE-ASSIGNMENT-2/blob/main/week08_practice.ipynb\" target=\"_parent\"><img src=\"https://colab.research.google.com/assets/colab-badge.svg\" alt=\"Open In Colab\"/></a>"
      ]
    },
    {
      "cell_type": "raw",
      "metadata": {
        "id": "nhhzas_mGcoS"
      },
      "source": [
        "---\n",
        "title: \"Week 8: Additional Practice - Building AI Collaboration Skills\"\n",
        "subtitle: \"ISYS2001 Introduction to Business Programming\"\n",
        "author: \"Your Name\"\n",
        "date: \"September 2024\"\n",
        "format:\n",
        "  html:\n",
        "    toc: true\n",
        "    toc-expand: 2\n",
        "    code-fold: false\n",
        "    embed-resources: true\n",
        "---"
      ]
    },
    {
      "cell_type": "markdown",
      "metadata": {
        "id": "lIwxXmVKGcoW"
      },
      "source": [
        "# 🎯 Building Confidence with AI-Assisted Data Analysis\n",
        "\n",
        "This notebook provides additional practice exercises to strengthen your AI collaboration skills and build confidence with business data processing. Use these exercises to deepen your understanding before or after the main workshop.\n",
        "\n",
        "**Remember**: The goal isn't to memorize pandas syntax - it's to become effective at directing AI to solve business problems."
      ]
    },
    {
      "cell_type": "markdown",
      "metadata": {
        "id": "LpPSsU9GGcoX"
      },
      "source": [
        "---\n",
        "\n",
        "# Exercise Set 1: Sales Data Analysis 📊\n",
        "\n",
        "## Business Context\n",
        "\n",
        "You're working as a Business Analyst for an office supply company. Your manager has given you sales data and asked for insights to help plan next quarter's inventory and sales strategy.\n",
        "\n",
        "## Data Overview\n",
        "\n",
        "We'll use the `sales_data.csv` file with columns:\n",
        "- **Date**: Sale date\n",
        "- **Product**: Product name\n",
        "- **Quantity**: Units sold\n",
        "- **Unit_Price**: Price per unit (with $ signs)\n",
        "- **Total_Sale**: Total transaction value\n",
        "- **Sales_Rep**: Employee who made the sale\n",
        "- **Region**: Geographic region"
      ]
    },
    {
      "cell_type": "code",
      "metadata": {
        "id": "7uBJH6OJGcoY"
      },
      "source": [
        "import pandas as pd\n",
        "\n",
        "# Load the sales data\n",
        "sales_df = pd.read_csv('../data/sales_data.csv')\n",
        "\n",
        "# Display first few rows\n",
        "print(\"📋 Sales Data Sample:\")\n",
        "print(\"=\" * 40)\n",
        "print(sales_df.head())\n",
        "print(f\"\\nDataset: {len(sales_df)} transactions across {sales_df['Region'].nunique()} regions\")"
      ],
      "execution_count": null,
      "outputs": []
    },
    {
      "cell_type": "markdown",
      "metadata": {
        "id": "y50QQzCsGcoa"
      },
      "source": [
        "## Practice Exercise 1.1: Sales Performance by Region\n",
        "\n",
        "::: {.callout-tip}\n",
        "## Your AI Collaboration Challenge\n",
        "\n",
        "**Business Question**: \"Which region is performing best, and what's the average sale size by region?\"\n",
        "\n",
        "**Your Task**: Practice prompting AI with this business context. Try creating a prompt that asks for:\n",
        "1. Total sales by region\n",
        "2. Average sale amount by region  \n",
        "3. Number of transactions by region\n",
        "4. Results formatted for a manager presentation\n",
        "\n",
        "**Write your prompt below, then see what AI generates:**\n",
        ":::\n",
        "\n",
        "**Your Prompt:**\n",
        "```\n",
        "[Hi! I’m analyzing some sales data for a business report and need help summarizing regional performance. The dataset includes columns like Date, Product, Quantity, Unit_Price (with dollar signs), Total_Sale, Sales_Rep, and Region.\n",
        "\n",
        "Could you write Python code using pandas that does the following:\n",
        "\n",
        "1. Calculates total sales for each region\n",
        "2. Finds the average sale amount per region\n",
        "3. Counts how many transactions happened in each region\n",
        "4. Combines everything into a neat, easy-to-read table that would look good in a management presentation\n",
        "\n",
        "Also, please clean the Unit_Price column if needed (it has $ symbols). Thanks!\n",
        "]\n",
        "```\n",
        "\n",
        "**AI Response:**"
      ]
    },
    {
      "cell_type": "code",
      "metadata": {
        "colab": {
          "base_uri": "https://localhost:8080/"
        },
        "id": "QQgwlM79Gcoa",
        "outputId": "3f3cab8e-b977-40b8-cfb3-5df6837e7115"
      },
      "source": [
        "import pandas as pd\n",
        "\n",
        "# Load the sales data\n",
        "sales_df = pd.read_csv('sales_data.csv')\n",
        "\n",
        "# Remove '$' and convert 'Unit_Price' and 'Total_Sale' to numeric\n",
        "sales_df['Unit_Price'] = sales_df['Unit_Price'].replace('[\\$,]', '', regex=True).astype(float)\n",
        "sales_df['Total_Sale'] = sales_df['Total_Sale'].replace('[\\$,]', '', regex=True).astype(float)\n",
        "\n",
        "# Group by Region\n",
        "region_summary = sales_df.groupby('Region').agg(\n",
        "    Total_Sales=('Total_Sale', 'sum'),\n",
        "    Average_Sale=('Total_Sale', 'mean'),\n",
        "    Transactions=('Total_Sale', 'count')\n",
        ").reset_index()\n",
        "\n",
        "# Format for presentation\n",
        "region_summary['Total_Sales'] = region_summary['Total_Sales'].map('${:,.2f}'.format)\n",
        "region_summary['Average_Sale'] = region_summary['Average_Sale'].map('${:,.2f}'.format)\n",
        "\n",
        "# Sort by Total Sales descending\n",
        "region_summary = region_summary.sort_values(by='Total_Sales', ascending=False)\n",
        "\n",
        "# Display results\n",
        "print(\"📊 Sales Performance by Region\")\n",
        "print(region_summary)\n"
      ],
      "execution_count": 8,
      "outputs": [
        {
          "output_type": "stream",
          "name": "stdout",
          "text": [
            "📊 Sales Performance by Region\n",
            "  Region Total_Sales Average_Sale  Transactions\n",
            "0    NSW  $50,902.75    $6,362.84             8\n",
            "2    VIC  $21,085.50    $5,271.38             4\n",
            "1    QLD  $11,904.30    $2,976.07             4\n",
            "3     WA  $10,049.25    $2,512.31             4\n"
          ]
        },
        {
          "output_type": "stream",
          "name": "stderr",
          "text": [
            "<>:7: SyntaxWarning: invalid escape sequence '\\$'\n",
            "<>:8: SyntaxWarning: invalid escape sequence '\\$'\n",
            "<>:7: SyntaxWarning: invalid escape sequence '\\$'\n",
            "<>:8: SyntaxWarning: invalid escape sequence '\\$'\n",
            "/tmp/ipython-input-1424025004.py:7: SyntaxWarning: invalid escape sequence '\\$'\n",
            "  sales_df['Unit_Price'] = sales_df['Unit_Price'].replace('[\\$,]', '', regex=True).astype(float)\n",
            "/tmp/ipython-input-1424025004.py:8: SyntaxWarning: invalid escape sequence '\\$'\n",
            "  sales_df['Total_Sale'] = sales_df['Total_Sale'].replace('[\\$,]', '', regex=True).astype(float)\n"
          ]
        }
      ]
    },
    {
      "cell_type": "markdown",
      "metadata": {
        "id": "vuv_XflaGcob"
      },
      "source": [
        "**Your Critique:**\n",
        "- What did AI do well?\n",
        "- What would you ask AI to improve?\n",
        "- Does the output help answer the business question?\n",
        "\n",
        "---\n",
        "\n",
        "## Practice Exercise 1.2: Top Performing Products\n",
        "\n",
        "::: {.callout-tip}\n",
        "## Business Scenario\n",
        "\n",
        "Your inventory manager needs to know which products to stock more of next quarter.\n",
        "\n",
        "**Challenge**: Ask AI to identify the top 5 products by:\n",
        "- Total revenue generated\n",
        "- Total units sold\n",
        "- Which products have the highest profit margins (hint: compare unit price trends)\n",
        "\n",
        "**Practice better prompting**: Be specific about formatting and business context.\n",
        ":::\n",
        "\n",
        "**Your Prompt:**\n",
        "```\n",
        "[Hey, I’m helping an inventory manager figure out which products we should prioritize for restocking.\n",
        "\n",
        "Can you help me analyze the product-level performance using Python and pandas? Here's what I need from the sales dataset:\n",
        "\n",
        "1. A list of the **top 5 products** based on **total revenue generated**\n",
        "2. The **top 5 products** by **total units sold**\n",
        "3. A way to identify which products have **higher unit prices** on average (to suggest higher-margin items)\n",
        "\n",
        "Please format the results in a way that’s easy to share in a business report. The data includes columns like Product, Quantity, Unit_Price (with $), and Total_Sale.\n",
        "\n",
        "Thanks!\n",
        "]\n",
        "```\n",
        "\n",
        "**AI Response:**"
      ]
    },
    {
      "cell_type": "code",
      "metadata": {
        "colab": {
          "base_uri": "https://localhost:8080/"
        },
        "id": "u_ZaiFexGcoc",
        "outputId": "1d2ae09e-bc0e-42c9-bef8-196c390f4bd9"
      },
      "source": [
        "import pandas as pd\n",
        "\n",
        "# Load the sales data\n",
        "sales_df = pd.read_csv(\"sales_data.csv\")\n",
        "\n",
        "# Clean Unit_Price column\n",
        "sales_df['Unit_Price'] = sales_df['Unit_Price'].replace('[\\$,]', '', regex=True).astype(float)\n",
        "\n",
        "# Total revenue by product\n",
        "revenue_by_product = sales_df.groupby(\"Product\")[\"Total_Sale\"].sum().sort_values(ascending=False).head(5)\n",
        "\n",
        "# Total units sold by product\n",
        "units_sold = sales_df.groupby(\"Product\")[\"Quantity\"].sum().sort_values(ascending=False).head(5)\n",
        "\n",
        "# Average unit price by product\n",
        "avg_price = sales_df.groupby(\"Product\")[\"Unit_Price\"].mean().sort_values(ascending=False).head(5)\n",
        "\n",
        "# Display results\n",
        "print(\"🔝 Top 5 Products by Revenue:\\n\", revenue_by_product)\n",
        "print(\"\\n📦 Top 5 Products by Units Sold:\\n\", units_sold)\n",
        "print(\"\\n💰 Products with Highest Average Unit Price:\\n\", avg_price)\n"
      ],
      "execution_count": 9,
      "outputs": [
        {
          "output_type": "stream",
          "name": "stdout",
          "text": [
            "🔝 Top 5 Products by Revenue:\n",
            " Product\n",
            "Whiteboard - Interactive       $7596.00\n",
            "Monitor - 27 inch              $7002.00\n",
            "Router - Business Grade        $4998.75\n",
            "Business Analytics Software    $4998.00\n",
            "Projector - 4K Business        $4799.70\n",
            "Name: Total_Sale, dtype: object\n",
            "\n",
            "📦 Top 5 Products by Units Sold:\n",
            " Product\n",
            "UPS Battery Backup         $9\n",
            "Printer - Multifunction    $8\n",
            "Standing Desk              $8\n",
            "Air Purifier - Office      $7\n",
            "Projector - 4K Business    $6\n",
            "Name: Quantity, dtype: object\n",
            "\n",
            "💰 Products with Highest Average Unit Price:\n",
            " Product\n",
            "Business Analytics Software    2499.0\n",
            "Laptop - Business Grade        1899.0\n",
            "Whiteboard - Interactive       1899.0\n",
            "Security Camera System         1299.0\n",
            "Conference Table               1250.0\n",
            "Name: Unit_Price, dtype: float64\n"
          ]
        },
        {
          "output_type": "stream",
          "name": "stderr",
          "text": [
            "<>:7: SyntaxWarning: invalid escape sequence '\\$'\n",
            "<>:7: SyntaxWarning: invalid escape sequence '\\$'\n",
            "/tmp/ipython-input-2656043166.py:7: SyntaxWarning: invalid escape sequence '\\$'\n",
            "  sales_df['Unit_Price'] = sales_df['Unit_Price'].replace('[\\$,]', '', regex=True).astype(float)\n"
          ]
        }
      ]
    },
    {
      "cell_type": "markdown",
      "metadata": {
        "id": "JDhZP35LGcod"
      },
      "source": [
        "**Business Insight Questions:**\n",
        "- Which products should the company stock more of?\n",
        "- Are high-price items selling well, or is volume more important?\n",
        "- What would you recommend to the inventory manager?\n",
        "\n",
        "---\n",
        "\n",
        "## Practice Exercise 1.3: Sales Rep Performance\n",
        "\n",
        "::: {.callout-tip}\n",
        "## Management Challenge\n",
        "\n",
        "Your sales manager wants to recognize top performers and identify who might need additional training.\n",
        "\n",
        "**Your Task**: Create prompts that help analyze:\n",
        "1. Which sales reps are generating the most revenue?\n",
        "2. Who has the highest average sale amounts?\n",
        "3. Are there regional patterns in rep performance?\n",
        "4. Format results suitable for a performance review meeting\n",
        ":::\n",
        "\n",
        "**Your Approach:**"
      ]
    },
    {
      "cell_type": "code",
      "metadata": {
        "colab": {
          "base_uri": "https://localhost:8080/"
        },
        "id": "06d2CX5IGcod",
        "outputId": "d9e52b50-d613-488c-91d2-879811d2e04f"
      },
      "source": [
        "import pandas as pd\n",
        "\n",
        "# Load the sales data\n",
        "sales_df = pd.read_csv(\"sales_data.csv\")\n",
        "\n",
        "# 🧼 Clean columns: Remove $ and convert to numeric\n",
        "sales_df['Total_Sale'] = sales_df['Total_Sale'].replace('[\\$,]', '', regex=True).astype(float)\n",
        "sales_df['Unit_Price'] = sales_df['Unit_Price'].replace('[\\$,]', '', regex=True).astype(float)\n",
        "\n",
        "# ✅ Total revenue by sales rep\n",
        "revenue_by_rep = sales_df.groupby(\"Sales_Rep\")[\"Total_Sale\"].sum().reset_index().sort_values(by=\"Total_Sale\", ascending=False)\n",
        "\n",
        "# ✅ Average sale amount by rep\n",
        "average_sale_by_rep = sales_df.groupby(\"Sales_Rep\")[\"Total_Sale\"].mean().reset_index().sort_values(by=\"Total_Sale\", ascending=False)\n",
        "\n",
        "# ✅ Regional performance: Total sales by Region and Rep\n",
        "regional_rep_sales = sales_df.groupby([\"Region\", \"Sales_Rep\"])[\"Total_Sale\"].sum().reset_index().sort_values(by=\"Total_Sale\", ascending=False)\n",
        "\n",
        "# 📊 Display results\n",
        "print(\"🏆 Top Sales Reps by Total Revenue:\\n\", revenue_by_rep.head(), \"\\n\")\n",
        "print(\"💰 Sales Reps with Highest Average Sale:\\n\", average_sale_by_rep.head(), \"\\n\")\n",
        "print(\"🌍 Regional Sales Performance:\\n\", regional_rep_sales.head(10))\n",
        "\n"
      ],
      "execution_count": 11,
      "outputs": [
        {
          "output_type": "stream",
          "name": "stdout",
          "text": [
            "🏆 Top Sales Reps by Total Revenue:\n",
            "        Sales_Rep  Total_Sale\n",
            "0    David Kumar    32506.50\n",
            "3   Michael Wong    21085.50\n",
            "4     Sarah Chen    18396.25\n",
            "1  Emma Thompson    11904.30\n",
            "2      Lisa Park    10049.25 \n",
            "\n",
            "💰 Sales Reps with Highest Average Sale:\n",
            "        Sales_Rep  Total_Sale\n",
            "0    David Kumar   8126.6250\n",
            "3   Michael Wong   5271.3750\n",
            "4     Sarah Chen   4599.0625\n",
            "1  Emma Thompson   2976.0750\n",
            "2      Lisa Park   2512.3125 \n",
            "\n",
            "🌍 Regional Sales Performance:\n",
            "   Region      Sales_Rep  Total_Sale\n",
            "0    NSW    David Kumar    32506.50\n",
            "3    VIC   Michael Wong    21085.50\n",
            "1    NSW     Sarah Chen    18396.25\n",
            "2    QLD  Emma Thompson    11904.30\n",
            "4     WA      Lisa Park    10049.25\n"
          ]
        },
        {
          "output_type": "stream",
          "name": "stderr",
          "text": [
            "<>:7: SyntaxWarning: invalid escape sequence '\\$'\n",
            "<>:8: SyntaxWarning: invalid escape sequence '\\$'\n",
            "<>:7: SyntaxWarning: invalid escape sequence '\\$'\n",
            "<>:8: SyntaxWarning: invalid escape sequence '\\$'\n",
            "/tmp/ipython-input-3970392404.py:7: SyntaxWarning: invalid escape sequence '\\$'\n",
            "  sales_df['Total_Sale'] = sales_df['Total_Sale'].replace('[\\$,]', '', regex=True).astype(float)\n",
            "/tmp/ipython-input-3970392404.py:8: SyntaxWarning: invalid escape sequence '\\$'\n",
            "  sales_df['Unit_Price'] = sales_df['Unit_Price'].replace('[\\$,]', '', regex=True).astype(float)\n"
          ]
        }
      ]
    },
    {
      "cell_type": "markdown",
      "metadata": {
        "id": "Yd5UNoMUGcoe"
      },
      "source": [
        "---\n",
        "\n",
        "# Exercise Set 2: Financial Transaction Patterns 💳\n",
        "\n",
        "## Advanced Analysis Practice\n",
        "\n",
        "Using the original transactions data, practice more sophisticated AI collaboration."
      ]
    },
    {
      "cell_type": "code",
      "metadata": {
        "colab": {
          "base_uri": "https://localhost:8080/",
          "height": 834
        },
        "id": "SBD-edvaGcoe",
        "outputId": "7d9f27cc-5d21-43c3-a618-2deff50dd1ea"
      },
      "source": [
        "import pandas as pd\n",
        "import matplotlib.pyplot as plt\n",
        "import seaborn as sns\n",
        "\n",
        "# Load transactions data\n",
        "transactions_df = pd.read_csv(\"transactions.csv\")\n",
        "\n",
        "# Convert Date column to datetime\n",
        "transactions_df['Date'] = pd.to_datetime(transactions_df['Date'])\n",
        "\n",
        "# Add new time features\n",
        "transactions_df['DayOfWeek'] = transactions_df['Date'].dt.day_name()\n",
        "transactions_df['Month'] = transactions_df['Date'].dt.to_period('M')\n",
        "\n",
        "# Convert Amount to float (remove $ if needed)\n",
        "transactions_df['Amount'] = transactions_df['Amount'].replace('[\\$,]', '', regex=True).astype(float)\n",
        "\n",
        "# Average spending by day of week\n",
        "avg_by_day = transactions_df.groupby('DayOfWeek')['Amount'].mean().sort_values(ascending=False)\n",
        "print(\"📅 Average Spending by Day of Week:\\n\", avg_by_day)\n",
        "\n",
        "# Trend over time\n",
        "monthly_trend = transactions_df.groupby('Month')['Amount'].sum()\n",
        "monthly_trend.plot(kind='line', title='Spending Over Time', figsize=(10,5))\n",
        "plt.ylabel('Total Monthly Spending')\n",
        "plt.show()\n",
        "\n",
        "# Identify outliers using Z-score\n",
        "from scipy import stats\n",
        "z_scores = stats.zscore(transactions_df['Amount'])\n",
        "transactions_df['Z_Score'] = z_scores\n",
        "outliers = transactions_df[transactions_df['Z_Score'].abs() > 2]\n",
        "print(\"\\n🚨 Unusual Spending Transactions:\\n\", outliers[['Date', 'Amount', 'Z_Score']])\n"
      ],
      "execution_count": 12,
      "outputs": [
        {
          "output_type": "stream",
          "name": "stderr",
          "text": [
            "<>:16: SyntaxWarning: invalid escape sequence '\\$'\n",
            "<>:16: SyntaxWarning: invalid escape sequence '\\$'\n",
            "/tmp/ipython-input-1835163249.py:16: SyntaxWarning: invalid escape sequence '\\$'\n",
            "  transactions_df['Amount'] = transactions_df['Amount'].replace('[\\$,]', '', regex=True).astype(float)\n"
          ]
        },
        {
          "output_type": "stream",
          "name": "stdout",
          "text": [
            "📅 Average Spending by Day of Week:\n",
            " DayOfWeek\n",
            "Monday       99.333333\n",
            "Wednesday    90.000000\n",
            "Saturday     46.383333\n",
            "Sunday       36.400000\n",
            "Thursday     30.116667\n",
            "Friday       22.433333\n",
            "Tuesday      -3.566667\n",
            "Name: Amount, dtype: float64\n"
          ]
        },
        {
          "output_type": "stream",
          "name": "stderr",
          "text": [
            "/usr/local/lib/python3.12/dist-packages/pandas/plotting/_matplotlib/core.py:1561: UserWarning: Attempting to set identical low and high xlims makes transformation singular; automatically expanding.\n",
            "  ax.set_xlim(left, right)\n"
          ]
        },
        {
          "output_type": "display_data",
          "data": {
            "text/plain": [
              "<Figure size 1000x500 with 1 Axes>"
            ],
            "image/png": "[encoded data removed]"
          },
          "metadata": {}
        },
        {
          "output_type": "stream",
          "name": "stdout",
          "text": [
            "\n",
            "🚨 Unusual Spending Transactions:\n",
            "          Date  Amount   Z_Score\n",
            "11 2024-08-12   156.0  2.431585\n"
          ]
        }
      ]
    },
    {
      "cell_type": "markdown",
      "metadata": {
        "id": "CvVuv4-3Gcoe"
      },
      "source": [
        "## Practice Exercise 2.1: Spending Trend Analysis\n",
        "\n",
        "::: {.callout-tip}\n",
        "## Business Context\n",
        "\n",
        "You're helping a friend understand their spending habits over time.\n",
        "\n",
        "**Challenge**: Ask AI to help you:\n",
        "1. Convert dates to datetime format\n",
        "2. Analyze spending trends by day of week\n",
        "3. Identify if spending has increased over time\n",
        "4. Spot any unusual spending patterns\n",
        "\n",
        "**Focus**: Practice asking AI to explain any complex date handling code it provides.\n",
        ":::\n",
        "\n",
        "**Your Analysis:**"
      ]
    },
    {
      "cell_type": "code",
      "metadata": {
        "colab": {
          "base_uri": "https://localhost:8080/",
          "height": 834
        },
        "id": "qGEhcs1MGcoe",
        "outputId": "14004a25-239a-46a8-8735-2735a7390282"
      },
      "source": [
        "import pandas as pd\n",
        "import matplotlib.pyplot as plt\n",
        "import seaborn as sns\n",
        "\n",
        "# Load transactions data\n",
        "transactions_df = pd.read_csv(\"transactions.csv\")\n",
        "\n",
        "# Convert Date column to datetime\n",
        "transactions_df['Date'] = pd.to_datetime(transactions_df['Date'])\n",
        "\n",
        "# Add new time features\n",
        "transactions_df['DayOfWeek'] = transactions_df['Date'].dt.day_name()\n",
        "transactions_df['Month'] = transactions_df['Date'].dt.to_period('M')\n",
        "\n",
        "# Convert Amount to float (remove $ if needed)\n",
        "transactions_df['Amount'] = transactions_df['Amount'].replace('[\\$,]', '', regex=True).astype(float)\n",
        "\n",
        "# Average spending by day of week\n",
        "avg_by_day = transactions_df.groupby('DayOfWeek')['Amount'].mean().sort_values(ascending=False)\n",
        "print(\"📅 Average Spending by Day of Week:\\n\", avg_by_day)\n",
        "\n",
        "# Trend over time\n",
        "monthly_trend = transactions_df.groupby('Month')['Amount'].sum()\n",
        "monthly_trend.plot(kind='line', title='Spending Over Time', figsize=(10,5))\n",
        "plt.ylabel('Total Monthly Spending')\n",
        "plt.show()\n",
        "\n",
        "# Identify outliers using Z-score\n",
        "from scipy import stats\n",
        "z_scores = stats.zscore(transactions_df['Amount'])\n",
        "transactions_df['Z_Score'] = z_scores\n",
        "outliers = transactions_df[transactions_df['Z_Score'].abs() > 2]\n",
        "print(\"\\n🚨 Unusual Spending Transactions:\\n\", outliers[['Date', 'Amount', 'Z_Score']])\n"
      ],
      "execution_count": 13,
      "outputs": [
        {
          "output_type": "stream",
          "name": "stdout",
          "text": [
            "📅 Average Spending by Day of Week:\n",
            " DayOfWeek\n",
            "Monday       99.333333\n",
            "Wednesday    90.000000\n",
            "Saturday     46.383333\n",
            "Sunday       36.400000\n",
            "Thursday     30.116667\n",
            "Friday       22.433333\n",
            "Tuesday      -3.566667\n",
            "Name: Amount, dtype: float64\n"
          ]
        },
        {
          "output_type": "stream",
          "name": "stderr",
          "text": [
            "<>:16: SyntaxWarning: invalid escape sequence '\\$'\n",
            "<>:16: SyntaxWarning: invalid escape sequence '\\$'\n",
            "/tmp/ipython-input-1835163249.py:16: SyntaxWarning: invalid escape sequence '\\$'\n",
            "  transactions_df['Amount'] = transactions_df['Amount'].replace('[\\$,]', '', regex=True).astype(float)\n",
            "/usr/local/lib/python3.12/dist-packages/pandas/plotting/_matplotlib/core.py:1561: UserWarning: Attempting to set identical low and high xlims makes transformation singular; automatically expanding.\n",
            "  ax.set_xlim(left, right)\n"
          ]
        },
        {
          "output_type": "display_data",
          "data": {
            "text/plain": [
              "<Figure size 1000x500 with 1 Axes>"
            ],
            "image/png": "[encoded data removed]"
          },
          "metadata": {}
        },
        {
          "output_type": "stream",
          "name": "stdout",
          "text": [
            "\n",
            "🚨 Unusual Spending Transactions:\n",
            "          Date  Amount   Z_Score\n",
            "11 2024-08-12   156.0  2.431585\n"
          ]
        }
      ]
    },
    {
      "cell_type": "markdown",
      "metadata": {
        "id": "RP8If-GZGcoe"
      },
      "source": [
        "## Practice Exercise 2.2: Budget Category Analysis\n",
        "\n",
        "::: {.callout-tip}\n",
        "## Personal Finance Scenario\n",
        "\n",
        "Someone wants to set a realistic monthly budget based on their spending history.\n",
        "\n",
        "**Challenge**: Use AI to help:\n",
        "1. Calculate average monthly spending by category\n",
        "2. Identify categories with high variation (inconsistent spending)\n",
        "3. Suggest realistic budget amounts for each category\n",
        "4. Find categories where spending might be reduced\n",
        "\n",
        "**Advanced**: Ask AI to explain the statistical concepts it uses.\n",
        ":::\n",
        "\n",
        "**Your Budget Analysis:**"
      ]
    },
    {
      "cell_type": "code",
      "metadata": {
        "colab": {
          "base_uri": "https://localhost:8080/"
        },
        "id": "Dxji7KStGcof",
        "outputId": "aaa2c904-8f62-4d75-c214-8dd43af58642"
      },
      "source": [
        "import pandas as pd\n",
        "\n",
        "# Load transactions data\n",
        "transactions_df = pd.read_csv(\"transactions.csv\")\n",
        "\n",
        "# Clean the Amount column: remove dollar signs and convert to float\n",
        "transactions_df['Amount'] = transactions_df['Amount'].replace('[\\$,]', '', regex=True).astype(float)\n",
        "\n",
        "# Convert Date to datetime format\n",
        "transactions_df['Date'] = pd.to_datetime(transactions_df['Date'])\n",
        "\n",
        "# Extract year-month for grouping\n",
        "transactions_df['YearMonth'] = transactions_df['Date'].dt.to_period('M')\n",
        "\n",
        "# Calculate monthly spending per category\n",
        "monthly_category = transactions_df.groupby(['YearMonth', 'Category'])['Amount'].sum().reset_index()\n",
        "\n",
        "# Average monthly spend by category\n",
        "avg_monthly_spend = monthly_category.groupby('Category')['Amount'].mean().reset_index(name='Avg_Monthly_Spend')\n",
        "\n",
        "# Standard deviation to check variation\n",
        "std_dev = monthly_category.groupby('Category')['Amount'].std().reset_index(name='Spend_Std_Dev')\n",
        "\n",
        "# Combine results\n",
        "budget_df = avg_monthly_spend.merge(std_dev, on='Category')\n",
        "\n",
        "# Suggest realistic budget (e.g. median, but using average here)\n",
        "budget_df['Suggested_Budget'] = budget_df['Avg_Monthly_Spend'].round(2)\n",
        "\n",
        "# Flag high variation\n",
        "budget_df['High_Variation'] = budget_df['Spend_Std_Dev'] > budget_df['Avg_Monthly_Spend'] * 0.5\n",
        "\n",
        "# Display final recommendations\n",
        "print(\"📊 Budget Recommendations by Category:\\n\", budget_df.sort_values(by=\"Suggested_Budget\", ascending=False))\n"
      ],
      "execution_count": 14,
      "outputs": [
        {
          "output_type": "stream",
          "name": "stdout",
          "text": [
            "📊 Budget Recommendations by Category:\n",
            "         Category  Avg_Monthly_Spend  Spend_Std_Dev  Suggested_Budget  \\\n",
            "3      Groceries             394.70            NaN            394.70   \n",
            "2  Entertainment             206.95            NaN            206.95   \n",
            "1         Dining             113.90            NaN            113.90   \n",
            "5      Transport              89.50            NaN             89.50   \n",
            "6      Utilities              67.80            NaN             67.80   \n",
            "0         Coffee              37.95            NaN             37.95   \n",
            "4         Refund             -37.50            NaN            -37.50   \n",
            "\n",
            "   High_Variation  \n",
            "3           False  \n",
            "2           False  \n",
            "1           False  \n",
            "5           False  \n",
            "6           False  \n",
            "0           False  \n",
            "4           False  \n"
          ]
        },
        {
          "output_type": "stream",
          "name": "stderr",
          "text": [
            "<>:7: SyntaxWarning: invalid escape sequence '\\$'\n",
            "<>:7: SyntaxWarning: invalid escape sequence '\\$'\n",
            "/tmp/ipython-input-891442686.py:7: SyntaxWarning: invalid escape sequence '\\$'\n",
            "  transactions_df['Amount'] = transactions_df['Amount'].replace('[\\$,]', '', regex=True).astype(float)\n"
          ]
        }
      ]
    },
    {
      "cell_type": "markdown",
      "metadata": {
        "id": "YmltU_OsGcof"
      },
      "source": [
        "---\n",
        "\n",
        "# Exercise Set 3: AI Critique Practice 🤔\n",
        "\n",
        "## Common AI Code Issues\n",
        "\n",
        "Below are examples of AI-generated code with issues. Practice your critique skills!\n",
        "\n",
        "### Critique Exercise 1: Overly Complex Code\n",
        "\n",
        "```python\n",
        "# AI generated this code - what's wrong with it?\n",
        "import pandas as pd\n",
        "import numpy as np\n",
        "from datetime import datetime\n",
        "\n",
        "def complex_analysis(data):\n",
        "    result = data.groupby([pd.Grouper(key='Date', freq='M'), 'Category']).agg({\n",
        "        'Amount': [lambda x: pd.to_numeric(x.str.replace('$', ''), errors='coerce').sum(),\n",
        "                   lambda x: pd.to_numeric(x.str.replace('$', ''), errors='coerce').mean(),\n",
        "                   lambda x: pd.to_numeric(x.str.replace('$', ''), errors='coerce').std()]\n",
        "    }).reset_index()\n",
        "    \n",
        "    result.columns = ['_'.join(col).strip() for col in result.columns.values]\n",
        "    return result.fillna(0).round(2)\n",
        "\n",
        "# Complex usage\n",
        "df['Date'] = pd.to_datetime(df['Date'])\n",
        "complex_result = complex_analysis(transactions_df)\n",
        "print(complex_result.head())\n",
        "```\n",
        "\n",
        "**Your Critique:**\n",
        "\n",
        "::: {.callout-warning}\n",
        "## Issues to Identify\n",
        "\n",
        "1. What makes this code hard to understand?\n",
        "2. What would you ask AI to simplify?\n",
        "3. How would you request a clearer version?\n",
        "\n",
        "**Write your critique prompt:**\n",
        ":::\n",
        "\n",
        "```\n",
        "[Hi! I’m analyzing sales data for a small retail chain, where each region in the dataset represents a different store.\n",
        "\n",
        "Can you help me write Python code using pandas to:\n",
        "\n",
        "1. Identify which stores (regions) have the **highest and lowest total sales** (to adjust inventory)\n",
        "2. Find **low-performing products** that might be discontinued (e.g. low total sales or low volume sold)\n",
        "3. Show if there are any **seasonal or monthly trends** that could help schedule promotions\n",
        "4. Provide insights on how to **allocate staff better** (e.g. by store traffic or transaction count)\n",
        "\n",
        "The dataset includes Region, Product, Quantity, Total_Sale, Unit_Price, Date, and Sales_Rep. Please clean the data if needed, and format results clearly for decision-making.\n",
        "]\n",
        "```\n",
        "\n",
        "### Critique Exercise 2: Poor Business Context\n",
        "\n",
        "```python\n",
        "# AI code that works but lacks business insight\n",
        "df_grouped = df.groupby('cat')['amt'].sum().sort_values()\n",
        "print(df_grouped)\n",
        "```\n",
        "\n",
        "**Problems:**\n",
        "- Unclear column references\n",
        "- No business explanation\n",
        "- Poor formatting\n",
        "- No context for results\n",
        "\n",
        "**Your Improvement Prompt:**\n",
        "```\n",
        "[How would you ask AI to make this more business-appropriate?]\n",
        "```\n",
        "\n",
        "---\n",
        "\n",
        "# Exercise Set 4: Real-World Business Scenarios 🏢\n",
        "\n",
        "## Scenario 1: Retail Store Analysis\n",
        "\n",
        "::: {.callout-note}\n",
        "## Business Context\n",
        "\n",
        "You're analyzing sales data for a small retail chain. They want to know:\n",
        "- Which stores need more inventory\n",
        "- What products to discontinue\n",
        "- When to schedule promotional campaigns\n",
        "- How to allocate sales staff\n",
        "\n",
        "**Data**: Use the sales_data.csv but imagine it represents different store locations instead of regions.\n",
        ":::\n",
        "\n",
        "**Your Business Analysis:**"
      ]
    },
    {
      "cell_type": "code",
      "metadata": {
        "colab": {
          "base_uri": "https://localhost:8080/",
          "height": 1000
        },
        "id": "fwjZLnOsGcof",
        "outputId": "62f5482c-df70-4062-d3f9-2ef7e80da38b"
      },
      "source": [
        "import pandas as pd\n",
        "\n",
        "# Load and clean sales data\n",
        "sales_df = pd.read_csv(\"sales_data.csv\")\n",
        "sales_df['Total_Sale'] = sales_df['Total_Sale'].replace('[\\$,]', '', regex=True).astype(float)\n",
        "sales_df['Unit_Price'] = sales_df['Unit_Price'].replace('[\\$,]', '', regex=True).astype(float)\n",
        "sales_df['Date'] = pd.to_datetime(sales_df['Date'])\n",
        "sales_df['Month'] = sales_df['Date'].dt.to_period('M')\n",
        "\n",
        "# 1. Store (region) performance\n",
        "store_sales = sales_df.groupby(\"Region\")[\"Total_Sale\"].sum().reset_index(name=\"Total Sales\").sort_values(by=\"Total Sales\", ascending=False)\n",
        "\n",
        "# 2. Low-performing products\n",
        "product_performance = sales_df.groupby(\"Product\").agg({\n",
        "    \"Total_Sale\": \"sum\",\n",
        "    \"Quantity\": \"sum\"\n",
        "}).sort_values(by=\"Total_Sale\")\n",
        "low_perf_products = product_performance.head(5)\n",
        "\n",
        "# 3. Monthly trend (for promotions)\n",
        "monthly_trends = sales_df.groupby(\"Month\")[\"Total_Sale\"].sum()\n",
        "monthly_trends.plot(kind=\"bar\", title=\"Monthly Sales Trend\", figsize=(10,5))\n",
        "\n",
        "# 4. Staff allocation by transaction count\n",
        "transaction_counts = sales_df.groupby(\"Region\")[\"Total_Sale\"].count().reset_index(name=\"Transaction Count\").sort_values(by=\"Transaction Count\", ascending=False)\n",
        "\n",
        "# Print summaries\n",
        "print(\"🏬 Store Performance:\\n\", store_sales, \"\\n\")\n",
        "print(\"📉 Low-Performing Products:\\n\", low_perf_products, \"\\n\")\n",
        "print(\"👥 Store Traffic (Transactions):\\n\", transaction_counts)\n"
      ],
      "execution_count": 15,
      "outputs": [
        {
          "output_type": "stream",
          "name": "stderr",
          "text": [
            "<>:5: SyntaxWarning: invalid escape sequence '\\$'\n",
            "<>:6: SyntaxWarning: invalid escape sequence '\\$'\n",
            "<>:5: SyntaxWarning: invalid escape sequence '\\$'\n",
            "<>:6: SyntaxWarning: invalid escape sequence '\\$'\n",
            "/tmp/ipython-input-3131404577.py:5: SyntaxWarning: invalid escape sequence '\\$'\n",
            "  sales_df['Total_Sale'] = sales_df['Total_Sale'].replace('[\\$,]', '', regex=True).astype(float)\n",
            "/tmp/ipython-input-3131404577.py:6: SyntaxWarning: invalid escape sequence '\\$'\n",
            "  sales_df['Unit_Price'] = sales_df['Unit_Price'].replace('[\\$,]', '', regex=True).astype(float)\n"
          ]
        },
        {
          "output_type": "stream",
          "name": "stdout",
          "text": [
            "🏬 Store Performance:\n",
            "   Region  Total Sales\n",
            "0    NSW     50902.75\n",
            "2    VIC     21085.50\n",
            "1    QLD     11904.30\n",
            "3     WA     10049.25 \n",
            "\n",
            "📉 Low-Performing Products:\n",
            "                        Total_Sale Quantity\n",
            "Product                                   \n",
            "Mouse - Ergonomic         1608.25      $35\n",
            "UPS Battery Backup        1619.55       $9\n",
            "Office Phone System       1895.00      $10\n",
            "Shredder - Industrial     1995.00       $5\n",
            "Air Purifier - Office     2093.00       $7 \n",
            "\n",
            "👥 Store Traffic (Transactions):\n",
            "   Region  Transaction Count\n",
            "0    NSW                  8\n",
            "1    QLD                  4\n",
            "2    VIC                  4\n",
            "3     WA                  4\n"
          ]
        },
        {
          "output_type": "display_data",
          "data": {
            "text/plain": [
              "<Figure size 1000x500 with 1 Axes>"
            ],
            "image/png": "[encoded data removed]"
          },
          "metadata": {}
        }
      ]
    },
    {
      "cell_type": "markdown",
      "metadata": {
        "id": "7wk-6xImGcof"
      },
      "source": [
        "## Scenario 2: Personal Finance Coaching\n",
        "\n",
        "::: {.callout-note}\n",
        "## Business Context\n",
        "\n",
        "You're building a personal finance app feature that provides spending advice.\n",
        "\n",
        "**Challenge**: Use AI to create code that:\n",
        "1. Identifies spending categories that are above typical percentages\n",
        "2. Suggests specific areas for potential savings\n",
        "3. Provides encouraging feedback for good spending habits\n",
        "4. Formats advice in a user-friendly way\n",
        ":::\n",
        "\n",
        "**Your Coaching Algorithm:**"
      ]
    },
    {
      "cell_type": "code",
      "metadata": {
        "colab": {
          "base_uri": "https://localhost:8080/"
        },
        "id": "S2N8byHFGcof",
        "outputId": "5572f5c5-fa52-47c9-9656-ddf428a09eeb"
      },
      "source": [
        "import pandas as pd\n",
        "\n",
        "# Load and clean data\n",
        "transactions_df = pd.read_csv(\"transactions.csv\")\n",
        "transactions_df['Amount'] = transactions_df['Amount'].replace('[\\$,]', '', regex=True).astype(float)\n",
        "\n",
        "# Total spend and spend per category\n",
        "total_spent = transactions_df['Amount'].sum()\n",
        "category_spend = transactions_df.groupby('Category')['Amount'].sum().reset_index()\n",
        "\n",
        "# Calculate percentage of total for each category\n",
        "category_spend['Percent_of_Total'] = (category_spend['Amount'] / total_spent * 100).round(2)\n",
        "\n",
        "# Suggestions based on percent thresholds\n",
        "advice = []\n",
        "for _, row in category_spend.iterrows():\n",
        "    if row['Percent_of_Total'] > 25:\n",
        "        advice.append(f\"⚠️ You’re spending a lot on {row['Category']} ({row['Percent_of_Total']}% of total). Consider reducing it.\")\n",
        "    elif row['Percent_of_Total'] < 5:\n",
        "        advice.append(f\"✅ Great job keeping your {row['Category']} spending low ({row['Percent_of_Total']}%).\")\n",
        "    else:\n",
        "        advice.append(f\"ℹ️ {row['Category']} spending is within a healthy range.\")\n",
        "\n",
        "# Display advice\n",
        "print(\"\\n🧠 Personal Finance Tips:\")\n",
        "for tip in advice:\n",
        "    print(tip)\n"
      ],
      "execution_count": 16,
      "outputs": [
        {
          "output_type": "stream",
          "name": "stdout",
          "text": [
            "\n",
            "🧠 Personal Finance Tips:\n",
            "✅ Great job keeping your Coffee spending low (4.35%).\n",
            "ℹ️ Dining spending is within a healthy range.\n",
            "ℹ️ Entertainment spending is within a healthy range.\n",
            "⚠️ You’re spending a lot on Groceries (45.2% of total). Consider reducing it.\n",
            "✅ Great job keeping your Refund spending low (-4.29%).\n",
            "ℹ️ Transport spending is within a healthy range.\n",
            "ℹ️ Utilities spending is within a healthy range.\n"
          ]
        },
        {
          "output_type": "stream",
          "name": "stderr",
          "text": [
            "<>:5: SyntaxWarning: invalid escape sequence '\\$'\n",
            "<>:5: SyntaxWarning: invalid escape sequence '\\$'\n",
            "/tmp/ipython-input-1597997922.py:5: SyntaxWarning: invalid escape sequence '\\$'\n",
            "  transactions_df['Amount'] = transactions_df['Amount'].replace('[\\$,]', '', regex=True).astype(float)\n"
          ]
        }
      ]
    },
    {
      "cell_type": "markdown",
      "metadata": {
        "id": "8YwBtjgUGcog"
      },
      "source": [
        "---\n",
        "\n",
        "# Self-Assessment Checklist ✅\n",
        "\n",
        "After completing these exercises, evaluate your AI collaboration skills:\n",
        "\n",
        "## AI Prompting Skills\n",
        "- ☐ I can write prompts that include business context\n",
        "- ☐ I specify desired output format and structure  \n",
        "- ☐ I ask follow-up questions to improve AI responses\n",
        "- ☐ I can request explanations of complex code\n",
        "\n",
        "## Code Critique Skills\n",
        "- ☐ I can identify when AI code is too complex\n",
        "- ☐ I recognize when variable names need improvement\n",
        "- ☐ I spot when business context is missing\n",
        "- ☐ I ask for clearer, more maintainable solutions\n",
        "\n",
        "## Business Application Skills  \n",
        "- ☐ I connect data analysis to real business decisions\n",
        "- ☐ I can explain technical results in business terms\n",
        "- ☐ I consider edge cases and data quality issues\n",
        "- ☐ I format results for business presentation\n",
        "\n",
        "## Learning Documentation\n",
        "- ☐ I document what I learned from each AI interaction\n",
        "- ☐ I record effective prompts for future use\n",
        "- ☐ I note when AI explanations helped my understanding\n",
        "- ☐ I reflect on how to improve my collaboration\n",
        "\n",
        "---\n",
        "\n",
        "# Reflection Questions 🤔\n",
        "\n",
        "Before finishing your practice session, consider:\n",
        "\n",
        "1. **Which AI interactions were most helpful for your learning?**\n",
        "2. **What types of prompts got you the best code explanations?**\n",
        "3. **When did you successfully critique and improve AI responses?**\n",
        "4. **How has your confidence with business data analysis changed?**\n",
        "5. **What AI collaboration strategies will you use in your assignment?**\n",
        "\n",
        "---\n",
        "\n",
        "# Next Steps 🚀\n",
        "\n",
        "**For Your Assignment:**\n",
        "- Apply these prompting techniques to your Smart Finance Assistant\n",
        "- Use the critique skills to ensure your code is business-appropriate\n",
        "- Document successful AI interactions in your Developer's Diary\n",
        "- Build on the confidence you've gained with these practice exercises\n",
        "\n",
        "**Remember**: You're not trying to become a pandas expert overnight. You're becoming skilled at directing AI to solve business problems efficiently and effectively.\n",
        "\n",
        "**Great practice work! These skills will serve you well throughout your Smart Finance Assistant project and in your future career! 🎉**"
      ]
    }
  ],
  "metadata": {
    "kernelspec": {
      "display_name": "Python 3",
      "language": "python",
      "name": "python3"
    },
    "colab": {
      "provenance": [],
      "include_colab_link": true
    }
  },
  "nbformat": 4,
  "nbformat_minor": 0
}
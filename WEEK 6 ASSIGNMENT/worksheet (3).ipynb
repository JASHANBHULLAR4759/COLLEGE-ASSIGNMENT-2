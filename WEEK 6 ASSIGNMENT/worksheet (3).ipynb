{
  "cells": [
    {
      "cell_type": "markdown",
      "metadata": {
        "id": "view-in-github",
        "colab_type": "text"
      },
      "source": [
        "<a href=\"https://colab.research.google.com/github/JASHANBHULLAR4759/COLLEGE-ASSIGNMENT-2/blob/main/worksheet.ipynb\" target=\"_parent\"><img src=\"https://colab.research.google.com/assets/colab-badge.svg\" alt=\"Open In Colab\"/></a>"
      ]
    },
    {
      "cell_type": "raw",
      "metadata": {
        "id": "pq4bcMf7ABaE"
      },
      "source": [
        "---\n",
        "title: 'Week 6 – Worksheet: Mini Contact Book'\n",
        "subtitle: 'Assessment 2 – Portfolio • Part 1 (In-class, 20–30 mins)'\n",
        "format:\n",
        "  html:\n",
        "    toc: true\n",
        "    toc-depth: 2\n",
        "    number-sections: false\n",
        "    code-copy: true\n",
        "    theme: cosmo\n",
        "  pdf:\n",
        "    toc: false\n",
        "  docx:\n",
        "    toc: false\n",
        "execute:\n",
        "  echo: true\n",
        "  warning: false\n",
        "  error: true\n",
        "---"
      ]
    },
    {
      "cell_type": "markdown",
      "metadata": {
        "id": "SkKXdJ8CABaF"
      },
      "source": [
        "## Learning Goals\n",
        "\n",
        "- Use **dictionaries** to store and retrieve data by **key**.  \n",
        "- Practise **create / update / iterate** operations.  \n",
        "- (Stretch) Model richer data with a **nested dictionary**.  \n",
        "- Record how you **used AI** to assist your work.\n",
        "\n",
        "::: callout-tip\n",
        "### What you’ll build\n",
        "A tiny **Contact Book** in Google Colab: add a few contacts, update one, and print them neatly.  \n",
        "If you finish early, extend it with emails.\n",
        ":::\n",
        "\n",
        "## Setup (2 minutes)\n",
        "\n",
        "1. Open **Google Colab** and create a new notebook.  \n",
        "2. Rename it: `week06_portfolio_contact_book.ipynb`.  \n",
        "3. You will push this file to your **Assessment 2 GitHub repo** at the end."
      ]
    },
    {
      "cell_type": "markdown",
      "metadata": {
        "id": "YmY9auLuABaF"
      },
      "source": [
        "---\n",
        "\n",
        "## Part A — Basics (Must Do)\n",
        "\n",
        "Follow each TODO. Leave your work visible in the cells (don’t delete earlier code).\n",
        "\n",
        "### A1. Create a dictionary with 3 contacts"
      ]
    },
    {
      "cell_type": "code",
      "metadata": {
        "colab": {
          "base_uri": "https://localhost:8080/"
        },
        "id": "ZZrVfzG4ABaF",
        "outputId": "48afdf58-941d-4f9d-f342-3166b4392a25"
      },
      "source": [
        "# Basic contact book: name -> phone number\n",
        "contacts = {\n",
        "    \"Alice Nguyen\": \"0400 123 456\",\n",
        "    \"Bob Singh\": \"0412 345 678\",\n",
        "    \"Charlie Brown\": \"0433 987 210\",\n",
        "}\n",
        "\n",
        "# Show all contacts neatly\n",
        "for name, phone in contacts.items():\n",
        "    print(f\"{name}: {phone}\")\n",
        "\n",
        "# --- Optional examples ---\n",
        "# Add a new contact\n",
        "contacts[\"JJ Bhullar\"] = \"0401 222 333\"\n",
        "\n",
        "# Update an existing number\n",
        "contacts[\"Bob Singh\"] = \"0411 000 999\"\n",
        "\n",
        "# Lookup safely (uncomment to try)\n",
        "# search = \"Alice Nguyen\"\n",
        "# print(f\"{search}: {contacts.get(search, 'Not found')}\")\n"
      ],
      "execution_count": 1,
      "outputs": [
        {
          "output_type": "stream",
          "name": "stdout",
          "text": [
            "Alice Nguyen: 0400 123 456\n",
            "Bob Singh: 0412 345 678\n",
            "Charlie Brown: 0433 987 210\n"
          ]
        }
      ]
    },
    {
      "cell_type": "markdown",
      "metadata": {
        "id": "Xdp2oVkTABaG"
      },
      "source": [
        "### A3. Update an existing contact’s number"
      ]
    },
    {
      "cell_type": "code",
      "metadata": {
        "id": "37xcJjQcABaG"
      },
      "source": [
        "contacts = {\n",
        "    \"Alice Nguyen\": \"0400 123 456\",\n",
        "    \"Bob Singh\": \"0412 345 678\",\n",
        "    \"Charlie Brown\": \"0433 987 210\",\n",
        "}\n",
        "\n",
        "# Overwrite Bob's number\n",
        "contacts[\"Bob Singh\"] = \"0411 000 999\"\n"
      ],
      "execution_count": 3,
      "outputs": []
    },
    {
      "cell_type": "markdown",
      "metadata": {
        "id": "_E6333NUABaG"
      },
      "source": [
        "### A4. Print all contacts in a neat format"
      ]
    },
    {
      "cell_type": "code",
      "metadata": {
        "colab": {
          "base_uri": "https://localhost:8080/"
        },
        "id": "oV_WnJ4AABaG",
        "outputId": "91be2522-2f9e-4b67-9b98-a601efe3bcad"
      },
      "source": [
        "# Assuming you already have a dictionary called contacts\n",
        "for name, phone in contacts.items():\n",
        "    print(f\"{name}: {phone}\")\n"
      ],
      "execution_count": 4,
      "outputs": [
        {
          "output_type": "stream",
          "name": "stdout",
          "text": [
            "Alice Nguyen: 0400 123 456\n",
            "Bob Singh: 0411 000 999\n",
            "Charlie Brown: 0433 987 210\n"
          ]
        }
      ]
    },
    {
      "cell_type": "raw",
      "metadata": {
        "id": "Yztjxt4TABaG"
      },
      "source": [
        "\\::: callout-check\n",
        "**Checkpoint:** You should now have:\n",
        "\n",
        "1. a dictionary with **3+** contacts,\n",
        "2. one **new** entry added,\n",
        "3. one **update** made, and\n",
        "4. a **neat printout**.\n",
        "   \\:::\n",
        "\n",
        "---"
      ]
    },
    {
      "cell_type": "markdown",
      "metadata": {
        "id": "1eB2RP67ABaG"
      },
      "source": [
        "## Part B — Nested (Stretch)\n",
        "\n",
        "Give each contact both **phone** and **email** using a nested dictionary.\n",
        "\n",
        "### B1. Convert contacts to a nested structure"
      ]
    },
    {
      "cell_type": "code",
      "metadata": {
        "id": "vtPf2sYSABaG"
      },
      "source": [
        "# Nested contact book: name -> {phone, email}\n",
        "contacts = {\n",
        "    \"Alice Nguyen\": {\n",
        "        \"phone\": \"0400 123 456\",\n",
        "        \"email\": \"alice.nguyen@example.com\"\n",
        "    },\n",
        "    \"Bob Singh\": {\n",
        "        \"phone\": \"0412 345 678\",\n",
        "        \"email\": \"bob.singh@example.com\"\n",
        "    },\n",
        "    \"Charlie Brown\": {\n",
        "        \"phone\": \"0433 987 210\",\n",
        "        \"email\": \"charlie.brown@example.com\"\n",
        "    },\n",
        "}\n"
      ],
      "execution_count": 5,
      "outputs": []
    },
    {
      "cell_type": "markdown",
      "metadata": {
        "id": "0ZpB-wYRABaH"
      },
      "source": [
        "### B2. Print contacts neatly (name, phone, email)"
      ]
    },
    {
      "cell_type": "code",
      "metadata": {
        "colab": {
          "base_uri": "https://localhost:8080/"
        },
        "id": "TyJXLkQ9ABaH",
        "outputId": "3222869e-06b5-4775-fa47-e23a0f78cfb4"
      },
      "source": [
        "# Contact Book (nested dictionary) and neat printing\n",
        "# - Each name maps to a dict with phone and email\n",
        "# - Prints as aligned columns: Name | Phone | Email\n",
        "\n",
        "# 1) Define the nested contact book\n",
        "contacts = {\n",
        "    \"Alice Nguyen\": {\n",
        "        \"phone\": \"0400 123 456\",\n",
        "        \"email\": \"alice.nguyen@example.com\"\n",
        "    },\n",
        "    \"Bob Singh\": {\n",
        "        \"phone\": \"0412 345 678\",\n",
        "        \"email\": \"bob.singh@example.com\"\n",
        "    },\n",
        "    \"Charlie Brown\": {\n",
        "        \"phone\": \"0433 987 210\",\n",
        "        \"email\": \"charlie.brown@example.com\"\n",
        "    },\n",
        "    # Add your own if you like:\n",
        "    \"JJ Bhullar\": {\n",
        "        \"phone\": \"0401 222 333\",\n",
        "        \"email\": \"jj.bhullar@example.com\"\n",
        "    },\n",
        "}\n",
        "\n",
        "# 2) Compute the width for the Name column for tidy alignment\n",
        "max_name_len = 0\n",
        "for n in contacts:\n",
        "    if len(n) > max_name_len:\n",
        "        max_name_len = len(n)\n",
        "\n",
        "# 3) Print header and a separator\n",
        "header = f\"{'Name':<{max_name_len}} | {'Phone':<14} | Email\"\n",
        "print(header)\n",
        "print(\"-\" * len(header))\n",
        "\n",
        "# 4) Print each contact\n",
        "for name, info in contacts.items():\n",
        "    phone = info.get(\"phone\", \"N/A\")\n",
        "    email = info.get(\"email\", \"N/A\")\n",
        "    print(f\"{name:<{max_name_len}} | {phone:<14} | {email}\")\n"
      ],
      "execution_count": 1,
      "outputs": [
        {
          "output_type": "stream",
          "name": "stdout",
          "text": [
            "Name          | Phone          | Email\n",
            "--------------------------------------\n",
            "Alice Nguyen  | 0400 123 456   | alice.nguyen@example.com\n",
            "Bob Singh     | 0412 345 678   | bob.singh@example.com\n",
            "Charlie Brown | 0433 987 210   | charlie.brown@example.com\n",
            "JJ Bhullar    | 0401 222 333   | jj.bhullar@example.com\n"
          ]
        }
      ]
    },
    {
      "cell_type": "markdown",
      "metadata": {
        "id": "CggObVWqABaH"
      },
      "source": [
        "\\::: callout-note\n",
        "**Optional:** Add a simple **lookup** by name using `input()` to fetch phone/email.\n",
        "\\:::"
      ]
    },
    {
      "cell_type": "code",
      "metadata": {
        "colab": {
          "base_uri": "https://localhost:8080/"
        },
        "id": "8fAFnQh6ABaH",
        "outputId": "d1785d7f-651d-4475-bb63-6f1a71c8dc62"
      },
      "source": [
        "# Contact Book (nested dictionary) + simple name lookup\n",
        "# - Each name maps to a dict with phone and email\n",
        "# - Prints aligned table of all contacts\n",
        "# - Lets the user type a name to see that person's details\n",
        "\n",
        "# 1) Define the nested contact book\n",
        "contacts = {\n",
        "    \"Alice Nguyen\": {\n",
        "        \"phone\": \"0400 123 456\",\n",
        "        \"email\": \"alice.nguyen@example.com\"\n",
        "    },\n",
        "    \"Bob Singh\": {\n",
        "        \"phone\": \"0412 345 678\",\n",
        "        \"email\": \"bob.singh@example.com\"\n",
        "    },\n",
        "    \"Charlie Brown\": {\n",
        "        \"phone\": \"0433 987 210\",\n",
        "        \"email\": \"charlie.brown@example.com\"\n",
        "    },\n",
        "    \"JJ Bhullar\": {\n",
        "        \"phone\": \"0401 222 333\",\n",
        "        \"email\": \"jj.bhullar@example.com\"\n",
        "    },\n",
        "}\n",
        "\n",
        "# 2) Compute the width for the Name column for tidy alignment\n",
        "max_name_len = 0\n",
        "for n in contacts:\n",
        "    if len(n) > max_name_len:\n",
        "        max_name_len = len(n)\n",
        "\n",
        "# 3) Print header and a separator\n",
        "header = f\"{'Name':<{max_name_len}} | {'Phone':<14} | Email\"\n",
        "print(header)\n",
        "print(\"-\" * len(header))\n",
        "\n",
        "# 4) Print each contact\n",
        "for name, info in contacts.items():\n",
        "    phone = info.get(\"phone\", \"N/A\")\n",
        "    email = info.get(\"email\", \"N/A\")\n",
        "    print(f\"{name:<{max_name_len}} | {phone:<14} | {email}\")\n",
        "\n",
        "# 5) Simple lookup by name (case-insensitive, exact match on letters)\n",
        "user_input = input(\"\\nEnter a contact's name to look up: \").strip()\n",
        "\n",
        "if user_input == \"\":\n",
        "    print(\"No name entered.\")\n",
        "else:\n",
        "    # Try exact match first\n",
        "    if user_input in contacts:\n",
        "        info = contacts[user_input]\n",
        "        print(f\"{user_input} — Phone: {info.get('phone','N/A')} | Email: {info.get('email','N/A')}\")\n",
        "    else:\n",
        "        # Case-insensitive fallback\n",
        "        found = False\n",
        "        for name in contacts:\n",
        "            if name.lower() == user_input.lower():\n",
        "                info = contacts[name]\n",
        "                print(f\"{name} — Phone: {info.get('phone','N/A')} | Email: {info.get('email','N/A')}\")\n",
        "                found = True\n",
        "                break\n",
        "        if not found:\n",
        "            print(f\"Contact '{user_input}' not found.\")\n"
      ],
      "execution_count": 3,
      "outputs": [
        {
          "output_type": "stream",
          "name": "stdout",
          "text": [
            "Name          | Phone          | Email\n",
            "--------------------------------------\n",
            "Alice Nguyen  | 0400 123 456   | alice.nguyen@example.com\n",
            "Bob Singh     | 0412 345 678   | bob.singh@example.com\n",
            "Charlie Brown | 0433 987 210   | charlie.brown@example.com\n",
            "JJ Bhullar    | 0401 222 333   | jj.bhullar@example.com\n",
            "\n",
            "Enter a contact's name to look up: bob singh\n",
            "Bob Singh — Phone: 0412 345 678 | Email: bob.singh@example.com\n"
          ]
        }
      ]
    },
    {
      "cell_type": "markdown",
      "metadata": {
        "id": "j0jJQdIVABaH"
      },
      "source": [
        "---\n",
        "\n",
        "## Part C — Critique AI Output (Optional, 3–5 mins)\n",
        "\n",
        "Read (don’t run) the following **over-complicated** structure:"
      ]
    },
    {
      "cell_type": "code",
      "metadata": {
        "id": "bxnm_tb0ABaH"
      },
      "source": [
        "book = {\n",
        "    \"people\": [\n",
        "        {\"n\": \"Alice\", \"v\": [\"phone\", \"0400 123 456\", \"email\", \"alice@example.com\"]},\n",
        "        {\"n\": \"Bob\",   \"v\": [\"phone\", \"0411 000 999\", \"email\", \"bob@example.com\"]},\n",
        "    ]\n",
        "}"
      ],
      "execution_count": null,
      "outputs": []
    },
    {
      "cell_type": "markdown",
      "metadata": {
        "id": "Qq_AH76VABaH"
      },
      "source": [
        "**Your task (short text answer below or as comments):**\n",
        "\n",
        "1. Identify **two reasons** this structure is hard to read/use.\n",
        "2. Sketch a **simpler redesign** (describe briefly or outline keys you would use).\n",
        "\n",
        "\\::: callout-tip\n",
        "If you’d like AI support without giving you the answer, try a **process prompt** like:\n",
        "\n",
        "> “Help me evaluate whether the above structure is easy to use for lookups in Python. Ask me 3 guiding questions first, then suggest *principles* (not code) for a clearer dictionary-of-dictionaries design.”\n",
        "> \\:::"
      ]
    },
    {
      "cell_type": "code",
      "metadata": {
        "id": "-ji2IlcZABaH"
      },
      "source": [
        "# ← Optional: write brief notes here as a multiline string\n",
        "critique_notes = \"\"\"\n",
        "1) The 'v' field crams labels and values into a flat list ([\"phone\", \"...\", \"email\", \"...\"]).\n",
        "   This is order-dependent, hard to read, and you can’t do natural key lookups like v[\"phone\"].\n",
        "\n",
        "2) People are stored inside a list under \"people\". That means O(n) scans to find a name,\n",
        "   allows duplicate names, and makes updates awkward.\n",
        "\n",
        "Redesign idea:\n",
        "Use a dictionary keyed by name, with a nested dictionary for clear fields.\n",
        "\n",
        "contacts = {\n",
        "    \"Alice\": {\"phone\": \"0400 123 456\", \"email\": \"alice@example.com\"},\n",
        "    \"Bob\":   {\"phone\": \"0411 000 999\", \"email\": \"bob@example.com\"}\n",
        "}\n",
        "\n",
        "Benefits: direct lookup contacts[\"Alice\"][\"phone\"], readable keys, easy updates/printing.\n",
        "\"\"\"\n",
        "\n",
        "critique_notes\n"
      ],
      "execution_count": null,
      "outputs": []
    },
    {
      "cell_type": "code",
      "source": [
        "# Contact Book (nested dict) with lookup AND delete-by-name\n",
        "# - Each name maps to a dict with phone and email\n",
        "# - Prints aligned table\n",
        "# - Lets the user look up a name\n",
        "# - Lets the user delete a contact by name (case-insensitive match)\n",
        "\n",
        "# 1) Define contacts\n",
        "contacts = {\n",
        "    \"Alice Nguyen\": {\"phone\": \"0400 123 456\", \"email\": \"alice.nguyen@example.com\"},\n",
        "    \"Bob Singh\": {\"phone\": \"0412 345 678\", \"email\": \"bob.singh@example.com\"},\n",
        "    \"Charlie Brown\": {\"phone\": \"0433 987 210\", \"email\": \"charlie.brown@example.com\"},\n",
        "    \"JJ Bhullar\": {\"phone\": \"0401 222 333\", \"email\": \"jj.bhullar@example.com\"},\n",
        "}\n",
        "\n",
        "# 2) Helper: compute width for Name column\n",
        "max_name_len = 0\n",
        "for n in contacts:\n",
        "    if len(n) > max_name_len:\n",
        "        max_name_len = len(n)\n",
        "\n",
        "# 3) Print header + table\n",
        "header = f\"{'Name':<{max_name_len}} | {'Phone':<14} | Email\"\n",
        "print(header)\n",
        "print(\"-\" * len(header))\n",
        "for name, info in contacts.items():\n",
        "    print(f\"{name:<{max_name_len}} | {info.get('phone','N/A'):<14} | {info.get('email','N/A')}\")\n",
        "\n",
        "# 4) Simple lookup by name\n",
        "user_input = input(\"\\nEnter a contact's name to look up: \").strip()\n",
        "if user_input:\n",
        "    if user_input in contacts:\n",
        "        info = contacts[user_input]\n",
        "        print(f\"{user_input} — Phone: {info.get('phone','N/A')} | Email: {info.get('email','N/A')}\")\n",
        "    else:\n",
        "        found = False\n",
        "        for name in contacts:\n",
        "            if name.lower() == user_input.lower():\n",
        "                info = contacts[name]\n",
        "                print(f\"{name} — Phone: {info.get('phone','N/A')} | Email: {info.get('email','N/A')}\")\n",
        "                found = True\n",
        "                break\n",
        "        if not found:\n",
        "            print(f\"Contact '{user_input}' not found.\")\n",
        "\n",
        "# 5) DELETE a contact by name\n",
        "delete_input = input(\"\\nEnter a contact's name to DELETE: \").strip()\n",
        "if delete_input:\n",
        "    if delete_input in contacts:\n",
        "        contacts.pop(delete_input)\n",
        "        print(f\"Deleted '{delete_input}'.\")\n",
        "    else:\n",
        "        # case-insensitive fallback\n",
        "        matched_key = \"\"\n",
        "        for name in contacts:\n",
        "            if name.lower() == delete_input.lower():\n",
        "                matched_key = name\n",
        "                break\n",
        "        if matched_key:\n",
        "            contacts.pop(matched_key)\n",
        "            print(f\"Deleted '{matched_key}'.\")\n",
        "        else:\n",
        "            print(f\"Contact '{delete_input}' not found; nothing deleted.\")\n",
        "else:\n",
        "    print(\"No name entered for deletion.\")\n",
        "\n",
        "# 6) Reprint updated table\n",
        "# (recompute width in case the longest name was deleted)\n",
        "max_name_len = 0\n",
        "for n in contacts:\n",
        "    if len(n) > max_name_len:\n",
        "        max_name_len = len(n)\n",
        "\n",
        "print(\"\\nUpdated contacts:\")\n",
        "header = f\"{'Name':<{max_name_len}} | {'Phone':<14} | Email\"\n",
        "print(header)\n",
        "print(\"-\" * len(header))\n",
        "for name, info in contacts.items():\n",
        "    print(f\"{name:<{max_name_len}} | {info.get('phone','N/A'):<14} | {info.get('email','N/A')}\")\n"
      ],
      "metadata": {
        "colab": {
          "base_uri": "https://localhost:8080/"
        },
        "id": "CFbdCryKx8T5",
        "outputId": "79259250-a29f-43da-d1ef-1aae1034e81f"
      },
      "execution_count": 4,
      "outputs": [
        {
          "output_type": "stream",
          "name": "stdout",
          "text": [
            "Name          | Phone          | Email\n",
            "--------------------------------------\n",
            "Alice Nguyen  | 0400 123 456   | alice.nguyen@example.com\n",
            "Bob Singh     | 0412 345 678   | bob.singh@example.com\n",
            "Charlie Brown | 0433 987 210   | charlie.brown@example.com\n",
            "JJ Bhullar    | 0401 222 333   | jj.bhullar@example.com\n",
            "\n",
            "Enter a contact's name to look up: BOB SINGH\n",
            "Bob Singh — Phone: 0412 345 678 | Email: bob.singh@example.com\n",
            "\n",
            "Enter a contact's name to DELETE: BOB SINGH\n",
            "Deleted 'Bob Singh'.\n",
            "\n",
            "Updated contacts:\n",
            "Name          | Phone          | Email\n",
            "--------------------------------------\n",
            "Alice Nguyen  | 0400 123 456   | alice.nguyen@example.com\n",
            "Charlie Brown | 0433 987 210   | charlie.brown@example.com\n",
            "JJ Bhullar    | 0401 222 333   | jj.bhullar@example.com\n"
          ]
        }
      ]
    },
    {
      "cell_type": "code",
      "source": [
        "# Contact Book (nested dict) with duplicate-check on add\n",
        "# - Prevents adding a contact if the same name already exists (case-insensitive)\n",
        "\n",
        "# Starter data\n",
        "contacts = {\n",
        "    \"Alice Nguyen\": {\"phone\": \"0400 123 456\", \"email\": \"alice.nguyen@example.com\"},\n",
        "    \"Bob Singh\": {\"phone\": \"0412 345 678\", \"email\": \"bob.singh@example.com\"},\n",
        "    \"Charlie Brown\": {\"phone\": \"0433 987 210\", \"email\": \"charlie.brown@example.com\"},\n",
        "}\n",
        "\n",
        "# --- Add with duplicate protection ---\n",
        "name = input(\"Enter new contact name: \").strip()\n",
        "\n",
        "# Case-insensitive duplicate check\n",
        "duplicate = False\n",
        "for existing in contacts:\n",
        "    if existing.lower() == name.lower():\n",
        "        duplicate = True\n",
        "        break\n",
        "\n",
        "if duplicate:\n",
        "    print(f\"Contact '{name}' already exists. Not added.\")\n",
        "else:\n",
        "    phone = input(\"Enter phone: \").strip()\n",
        "    email = input(\"Enter email: \").strip()\n",
        "    contacts[name] = {\"phone\": phone, \"email\": email}\n",
        "    print(f\"Added '{name}'.\")\n",
        "\n",
        "# --- Show updated contacts ---\n",
        "max_name_len = max(len(n) for n in contacts) if contacts else 4\n",
        "header = f\"{'Name':<{max_name_len}} | {'Phone':<14} | Email\"\n",
        "print(\"\\n\" + header)\n",
        "print(\"-\" * len(header))\n",
        "for n, info in contacts.items():\n",
        "    print(f\"{n:<{max_name_len}} | {info.get('phone','N/A'):<14} | {info.get('email','N/A')}\")\n"
      ],
      "metadata": {
        "colab": {
          "base_uri": "https://localhost:8080/"
        },
        "id": "1C5ETBMzyrJW",
        "outputId": "1af7574b-a82c-4c30-d606-a14f953db042"
      },
      "execution_count": 5,
      "outputs": [
        {
          "output_type": "stream",
          "name": "stdout",
          "text": [
            "Enter new contact name: jashan\n",
            "Enter phone: 0411555666\n",
            "Enter email: jashanjot0511@gmail.com\n",
            "Added 'jashan'.\n",
            "\n",
            "Name          | Phone          | Email\n",
            "--------------------------------------\n",
            "Alice Nguyen  | 0400 123 456   | alice.nguyen@example.com\n",
            "Bob Singh     | 0412 345 678   | bob.singh@example.com\n",
            "Charlie Brown | 0433 987 210   | charlie.brown@example.com\n",
            "jashan        | 0411555666     | jashanjot0511@gmail.com\n"
          ]
        }
      ]
    },
    {
      "cell_type": "code",
      "source": [
        "# Contact Book with multiple phone numbers per person\n",
        "# - Each contact stores a list of phone numbers under \"phones\" and one \"email\"\n",
        "# - Includes a simple add/update step and prints the table\n",
        "\n",
        "# 1) Define contacts (phones as a list)\n",
        "contacts = {\n",
        "    \"Alice Nguyen\": {\n",
        "        \"phones\": [\"0400 123 456\", \"08 6123 4567\"],\n",
        "        \"email\": \"alice.nguyen@example.com\"\n",
        "    },\n",
        "    \"Bob Singh\": {\n",
        "        \"phones\": [\"0412 345 678\"],\n",
        "        \"email\": \"bob.singh@example.com\"\n",
        "    },\n",
        "    \"Charlie Brown\": {\n",
        "        \"phones\": [\"0433 987 210\"],\n",
        "        \"email\": \"charlie.brown@example.com\"\n",
        "    },\n",
        "}\n",
        "\n",
        "# 2) Add another phone (creates the contact if it doesn't exist; avoids duplicate phones)\n",
        "name = input(\"Enter a contact name to add a phone (or create new): \").strip()\n",
        "\n",
        "# find existing key case-insensitively\n",
        "match_key = None\n",
        "for k in contacts:\n",
        "    if k.lower() == name.lower():\n",
        "        match_key = k\n",
        "        break\n",
        "\n",
        "if match_key is None:\n",
        "    # Create new contact\n",
        "    first_phone = input(\"Enter first phone: \").strip()\n",
        "    email = input(\"Enter email: \").strip()\n",
        "    contacts[name] = {\"phones\": [first_phone] if first_phone else [], \"email\": email}\n",
        "    print(f\"Added new contact '{name}'.\")\n",
        "else:\n",
        "    # Add phone to existing contact (no duplicates)\n",
        "    new_phone = input(f\"Enter a phone number to add for '{match_key}': \").strip()\n",
        "    if new_phone:\n",
        "        if new_phone in contacts[match_key].get(\"phones\", []):\n",
        "            print(\"That phone number is already listed; nothing added.\")\n",
        "        else:\n",
        "            contacts[match_key][\"phones\"].append(new_phone)\n",
        "            print(f\"Added phone for '{match_key}'.\")\n",
        "    else:\n",
        "        print(\"No phone entered; nothing added.\")\n",
        "\n",
        "# 3) Print table (phones joined by comma)\n",
        "max_name_len = max(len(n) for n in contacts) if contacts else 4\n",
        "header = f\"{'Name':<{max_name_len}} | Phones | Email\"\n",
        "print(\"\\n\" + header)\n",
        "print(\"-\" * len(header))\n",
        "for n, info in contacts.items():\n",
        "    phones_list = info.get(\"phones\", [])\n",
        "    phones_str = \", \".join(phones_list) if phones_list else \"N/A\"\n",
        "    email_str = info.get(\"email\", \"N/A\")\n",
        "    print(f\"{n:<{max_name_len}} | {phones_str} | {email_str}\")\n"
      ],
      "metadata": {
        "colab": {
          "base_uri": "https://localhost:8080/"
        },
        "id": "lE73UxXQzeMF",
        "outputId": "362293d2-97d8-47a8-d2d6-1ebe2b8a8b5f"
      },
      "execution_count": 6,
      "outputs": [
        {
          "output_type": "stream",
          "name": "stdout",
          "text": [
            "Enter a contact name to add a phone (or create new): jashan\n",
            "Enter first phone: 0411555666\n",
            "Enter email: jashanjot0511@gmail.com\n",
            "Added new contact 'jashan'.\n",
            "\n",
            "Name          | Phones | Email\n",
            "------------------------------\n",
            "Alice Nguyen  | 0400 123 456, 08 6123 4567 | alice.nguyen@example.com\n",
            "Bob Singh     | 0412 345 678 | bob.singh@example.com\n",
            "Charlie Brown | 0433 987 210 | charlie.brown@example.com\n",
            "jashan        | 0411555666 | jashanjot0511@gmail.com\n"
          ]
        }
      ]
    },
    {
      "cell_type": "raw",
      "metadata": {
        "id": "f0t2YPLlABaH"
      },
      "source": [
        "---"
      ]
    },
    {
      "cell_type": "markdown",
      "metadata": {
        "id": "MOEkribBABaH"
      },
      "source": [
        "## Submission (End of Class)\n",
        "\n",
        "1. **Show** your notebook to your tutor for a quick check.\n",
        "2. **Save** the notebook into your **Assessment 2 GitHub repo**.\n",
        "3. **Commit & push** (suggested message: `Week 6 – Mini Contact Book`).\n",
        "\n",
        "> Your full portfolio will be submitted as a **zip of the repo in Week 13**."
      ]
    },
    {
      "cell_type": "raw",
      "metadata": {
        "id": "RD3VcBGCABaH"
      },
      "source": [
        "---\n",
        "\n",
        "## Marking (This Week)\n",
        "\n",
        "* **✅ Complete** — Part A done (dictionary created, updated, printed). Part B optional.\n",
        "* **⚠️ Attempted** — Some progress, but not all required steps.\n",
        "* **❌ Not Submitted** — Nothing shown in class and/or nothing pushed to GitHub.\n",
        "\n",
        "---"
      ]
    },
    {
      "cell_type": "markdown",
      "metadata": {
        "id": "-lHr9EMDABaH"
      },
      "source": [
        "## AI Usage Note (2–3 lines)\n",
        "\n",
        "Add to your repo `README.md` **or** a final markdown cell:\n",
        "\n",
        "* What prompt(s) did you try?\n",
        "* What did you change/fix from AI’s suggestion?\n",
        "* One concept you want to practise (e.g., `.items()`, `.get()`)."
      ]
    },
    {
      "cell_type": "raw",
      "metadata": {
        "id": "1nbueNX8ABaH"
      },
      "source": [
        "---\n",
        "\n",
        "## Troubleshooting\n",
        "\n",
        "* **KeyError** → The name isn’t in the dictionary (use `in` to check).\n",
        "* **Typos** → Keys are case-sensitive (`\"Bob\"` ≠ `\"bob\"`).\n",
        "* **Overwriting** → Reassigning `contacts = {...}` replaces the old dict — that’s expected in B1.\n",
        "\n",
        "---"
      ]
    },
    {
      "cell_type": "markdown",
      "metadata": {
        "id": "HZ2CqXcpABaI"
      },
      "source": [
        "## Extension Ideas (For fast finishers)\n",
        "\n",
        "* Add a **delete contact** option.\n",
        "* Prevent duplicates (check existence before adding).\n",
        "* Store multiple phone numbers per person (list inside the nested dict).\n"
      ]
    }
  ],
  "metadata": {
    "kernelspec": {
      "display_name": "Python 3",
      "language": "python",
      "name": "python3"
    },
    "colab": {
      "provenance": [],
      "include_colab_link": true
    }
  },
  "nbformat": 4,
  "nbformat_minor": 0
}
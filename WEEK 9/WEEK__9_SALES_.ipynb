{
  "nbformat": 4,
  "nbformat_minor": 0,
  "metadata": {
    "colab": {
      "provenance": []
    },
    "kernelspec": {
      "name": "python3",
      "display_name": "Python 3"
    },
    "language_info": {
      "name": "python"
    }
  },
  "cells": [
    {
      "cell_type": "code",
      "execution_count": 18,
      "metadata": {
        "colab": {
          "base_uri": "https://localhost:8080/"
        },
        "id": "vKikroVqpuk-",
        "outputId": "936eff2a-a4e8-45a5-a43f-442ffb922253"
      },
      "outputs": [
        {
          "output_type": "stream",
          "name": "stdout",
          "text": [
            "📊 Sales Performance by Region\n",
            "  Region Total_Sales Average_Sale  Transactions\n",
            "0    NSW  $50,902.75    $6,362.84             8\n",
            "2    VIC  $21,085.50    $5,271.38             4\n",
            "1    QLD  $11,904.30    $2,976.07             4\n",
            "3     WA  $10,049.25    $2,512.31             4\n"
          ]
        },
        {
          "output_type": "stream",
          "name": "stderr",
          "text": [
            "<>:7: SyntaxWarning: invalid escape sequence '\\$'\n",
            "<>:8: SyntaxWarning: invalid escape sequence '\\$'\n",
            "<>:7: SyntaxWarning: invalid escape sequence '\\$'\n",
            "<>:8: SyntaxWarning: invalid escape sequence '\\$'\n",
            "/tmp/ipython-input-1424025004.py:7: SyntaxWarning: invalid escape sequence '\\$'\n",
            "  sales_df['Unit_Price'] = sales_df['Unit_Price'].replace('[\\$,]', '', regex=True).astype(float)\n",
            "/tmp/ipython-input-1424025004.py:8: SyntaxWarning: invalid escape sequence '\\$'\n",
            "  sales_df['Total_Sale'] = sales_df['Total_Sale'].replace('[\\$,]', '', regex=True).astype(float)\n"
          ]
        }
      ],
      "source": [
        "import pandas as pd\n",
        "\n",
        "# Load the sales data\n",
        "sales_df = pd.read_csv('sales_data.csv')\n",
        "\n",
        "# Remove '$' and convert 'Unit_Price' and 'Total_Sale' to numeric\n",
        "sales_df['Unit_Price'] = sales_df['Unit_Price'].replace('[\\$,]', '', regex=True).astype(float)\n",
        "sales_df['Total_Sale'] = sales_df['Total_Sale'].replace('[\\$,]', '', regex=True).astype(float)\n",
        "\n",
        "# Group by Region\n",
        "region_summary = sales_df.groupby('Region').agg(\n",
        "    Total_Sales=('Total_Sale', 'sum'),\n",
        "    Average_Sale=('Total_Sale', 'mean'),\n",
        "    Transactions=('Total_Sale', 'count')\n",
        ").reset_index()\n",
        "\n",
        "# Format for presentation\n",
        "region_summary['Total_Sales'] = region_summary['Total_Sales'].map('${:,.2f}'.format)\n",
        "region_summary['Average_Sale'] = region_summary['Average_Sale'].map('${:,.2f}'.format)\n",
        "\n",
        "# Sort by Total Sales descending\n",
        "region_summary = region_summary.sort_values(by='Total_Sales', ascending=False)\n",
        "\n",
        "# Display results\n",
        "print(\"📊 Sales Performance by Region\")\n",
        "print(region_summary)\n"
      ]
    }
  ]
}
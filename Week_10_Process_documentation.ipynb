{
  "nbformat": 4,
  "nbformat_minor": 0,
  "metadata": {
    "colab": {
      "provenance": [],
      "authorship_tag": "ABX9TyMbaT0o50qIoFpRTCizkY48",
      "include_colab_link": true
    },
    "kernelspec": {
      "name": "python3",
      "display_name": "Python 3"
    },
    "language_info": {
      "name": "python"
    }
  },
  "cells": [
    {
      "cell_type": "markdown",
      "metadata": {
        "id": "view-in-github",
        "colab_type": "text"
      },
      "source": [
        "<a href=\"https://colab.research.google.com/github/JASHANBHULLAR4759/COLLEGE-ASSIGNMENT-2/blob/main/Week_10_Process_documentation.ipynb\" target=\"_parent\"><img src=\"https://colab.research.google.com/assets/colab-badge.svg\" alt=\"Open In Colab\"/></a>"
      ]
    },
    {
      "cell_type": "code",
      "execution_count": null,
      "metadata": {
        "id": "tN5EsOpRe2VV"
      },
      "outputs": [],
      "source": []
    },
    {
      "cell_type": "markdown",
      "source": [
        "Week 10: Show Me Your Process\n",
        "Two Simple Problems - Steps 1-3 Only\n",
        "\n",
        "1 Weekly Exercise: Show Me Your Process\n",
        "What You Submit: Just Steps 1, 2, and 3 for two problems. NO CODE.\n",
        "\n",
        "This week is about proving you can THINK about a problem before jumping to AI or code.\n",
        "\n",
        "1.1 Problem 1: Tip Calculator\n",
        "1.1.1 The Scenario\n",
        "You work at a Perth restaurant. The manager wants a simple tool where staff can enter: - The bill amount (e.g., $45.80) - The tip percentage (e.g., 15%)\n",
        "\n",
        "And get back: - The tip amount - The total amount to charge\n",
        "\n",
        "1.1.2 What You Must Submit\n",
        "STEP 1: Understand the Problem\n",
        "\n",
        "In your own words, what is this program supposed to do? (2-3 sentences)\n",
        "\n",
        "**[This program helps restaurant staff easily calculate the tip amount and the total amount a customer needs to pay. The staff enter the bill amount and the desired tip percentage, and the tool calculates the appropriate tip and adds it to the bill.**]\n",
        "\n",
        "STEP 2: Identify Inputs and Outputs\n",
        "\n",
        "INPUTS: - [Bill amount (e.g., 45.80)] - [Number (float)]\n",
        "\n",
        "[Tip percentage (e.g., 15)] - [Number (integer or float)]\n",
        "\n",
        "\n",
        "OUTPUTS: - [Tip amount — Number (float, in currency format)]\n",
        "\n",
        "[Tip amount — Number (float, in currency format)]\n",
        "\n",
        "STEP 3: Work It By Hand\n",
        "\n",
        "Show me you can do this with a calculator. Use this example: - Bill amount: $45.80 - Tip percentage: 15%\n",
        "\n",
        "Write the steps:\n",
        " 1. [Multiply the bill amount by the tip percentage:\n",
        "$45.80 × 0.15 = $6.87]\n",
        "2. [Add the tip to the original bill:\n",
        "$45.80 + $6.87 = $52.67]\n",
        "\n",
        "3. [Final message:\n",
        "Tip is $6.87,\n",
        "total  charge  is $52.67]\n",
        "\n",
        "\n",
        "1.2 Problem 2: Late Fee Calculator\n",
        "1.2.1 The Scenario\n",
        "You work for a library in Perth. Books are due back in 14 days. For every day late, there’s a $0.50 fine (maximum $10.00).\n",
        "\n",
        "The librarian wants a program where they enter: - How many days the book is overdue\n",
        "\n",
        "And get back: - The fine amount (or “Maximum fine reached” if it’s over $10)\n",
        "\n",
        "1.2.2 What You Must Submit\n",
        "STEP 1: Understand the Problem\n",
        "\n",
        "\n",
        "In your own words, what is this program supposed to do? (2-3 sentences)\n",
        "\n",
        "[\n",
        "  This program is used by a librarian to calculate late return fees for overdue books. If a book is returned after 14 days, a $0.50 fine is  added per day, with a maximum charge of $10. The tool tells the librarian the correct fine based on the number of late days.\n",
        "  ]\n",
        "\n",
        "STEP 2: Identify Inputs and Outputs\n",
        "\n",
        "INPUTS: - [Number of days overdue — Number (integer)]\n",
        "\n",
        "OUTPUTS: - [Fine amount — Number (float, in currency)]\n",
        "\n",
        "[If fine exceeds $10.00, show: \"Maximum fine reached\"]\n",
        "\n",
        "STEP 3: Work It By Hand\n",
        "\n",
        "Show me you understand the logic. Calculate these three cases manually:\n",
        "\n",
        "Case A: Book is 5 days late - My calculation:** [Calculation: 5 × $0.50 = $2.50]** - Fine: [$2.50]\n",
        "\n",
        "Case B: Book is 25 days late - My calculation: [25 × $0.50 = $12.50] - Fine: [$10.00] -\n",
        "\n",
        " Special note: [Fine  is capped at $10.00 even though the calculated fine is $12.50]\n",
        "\n",
        "Case C: Book is 0 days late - Fine: [$0.00]"
      ],
      "metadata": {
        "id": "hYYAVdFRffIx"
      }
    }
  ]
}
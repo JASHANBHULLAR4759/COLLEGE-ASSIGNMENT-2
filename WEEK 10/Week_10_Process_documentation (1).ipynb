{
  "nbformat": 4,
  "nbformat_minor": 0,
  "metadata": {
    "colab": {
      "provenance": [],
      "authorship_tag": "ABX9TyNB8wpI0EjJFH2Uivll5ee/",
      "include_colab_link": true
    },
    "kernelspec": {
      "name": "python3",
      "display_name": "Python 3"
    },
    "language_info": {
      "name": "python"
    }
  },
  "cells": [
    {
      "cell_type": "markdown",
      "metadata": {
        "id": "view-in-github",
        "colab_type": "text"
      },
      "source": [
        "<a href=\"https://colab.research.google.com/github/JASHANBHULLAR4759/COLLEGE-ASSIGNMENT-2/blob/main/Week_10_Process_documentation.ipynb\" target=\"_parent\"><img src=\"https://colab.research.google.com/assets/colab-badge.svg\" alt=\"Open In Colab\"/></a>"
      ]
    },
    {
      "cell_type": "code",
      "execution_count": null,
      "metadata": {
        "id": "JkzqnFWVdUvK"
      },
      "outputs": [],
      "source": []
    },
    {
      "cell_type": "markdown",
      "source": [],
      "metadata": {
        "id": "e-seb1cGdvhE"
      }
    },
    {
      "cell_type": "markdown",
      "source": [
        "📌 PROBLEM 1: Tip Calculator\n",
        "\n",
        "🔹 STEP 1: Understand the Problem (In your own words)\n",
        "\n",
        "This program helps restaurant staff easily calculate the tip amount and the total amount a customer needs to pay. The staff enter the bill amount and the desired tip percentage, and the tool calculates the appropriate tip and adds it to the bill.\n",
        "\n",
        "🔹 STEP 2: Identify Inputs and Outputs\n",
        "\n",
        "INPUTS:\n",
        "\n",
        "Bill amount (e.g., 45.80) — Number (float)\n",
        "\n",
        "Tip percentage (e.g., 15) — Number (integer or float)\n",
        "\n",
        "OUTPUTS:\n",
        "\n",
        "Tip amount — Number (float, in currency format)\n",
        "\n",
        "Total amount (bill + tip) — Number (float, in currency format)\n",
        "\n",
        "\n",
        "🔹 STEP 3: Work It By Hand (Using example: $45.80 bill, 15% tip)\n",
        "\n",
        "\n",
        " Step 3 (Work it by hand)\n",
        "\n",
        "**Given:** Bill = **$45.80**, Tip % = **15%**\n",
        "\n",
        "1) Convert percent to decimal: 15% → 0.15  \n",
        "2) Tip amount = 45.80 × 0.15 = **$6.87**\n",
        "\n",
        "3) Total amount = 45.80 + 6.87 = **$52.67**  \n",
        "\n",
        "**Answer:** Tip = **$6.87**\n",
        "\n",
        "; Total = **$52.67**.\n",
        "\n",
        "📌 PROBLEM 2: Late Fee Calculator\n",
        "\n",
        "🔹 STEP 1: Understand the Problem (In your own words)\n",
        "\n",
        "This program is used by a librarian to calculate late return fees for overdue books. If a book is returned after 14 days, a \\$0.50 fine is added per day, with a maximum charge of $10. The tool tells the librarian the correct fine based on the number of late days.\n",
        "\n",
        "🔹 STEP 2: Identify Inputs and Outputs\n",
        "\n",
        "INPUTS:\n",
        "\n",
        "Number of days overdue — Number (integer)\n",
        "\n",
        "OUTPUTS:\n",
        "\n",
        "Fine amount — Number (float, in currency)\n",
        "\n",
        "If fine exceeds $10.00, show: \"Maximum fine reached\"\n",
        "\n",
        "\n",
        "🔹Step 3 (Work it by hand)\n",
        "\n",
        "Fine rate = **$0.50 per day**,\n",
        "\n",
        "**maximum $10.00**.\n",
        "\n",
        "**Case A: 5 days late**\n",
        "\n",
        "\n",
        "- Calculation: 5 × $0.50 = **$2.50**  \n",
        "- **Fine:** **$2.50**\n",
        "\n",
        "**Case B: 25 days late**  \n",
        "- Raw calculation: 25 × $0.50 = $12.50  \n",
        "- Apply maximum cap: **$10.00**\n",
        "\n",
        "- **Fine:** **$10.00** *(maximum reached)*\n",
        "\n",
        "**Case C: 0 days late**  \n",
        "- Calculation: 0 × $0.50 =\n",
        "$0.00  \n",
        "- **Fine:** **$0.00**\n"
      ],
      "metadata": {
        "id": "E7InTdqldztg"
      }
    },
    {
      "cell_type": "code",
      "source": [],
      "metadata": {
        "id": "TM2o9k68nVjQ"
      },
      "execution_count": null,
      "outputs": []
    }
  ]
}